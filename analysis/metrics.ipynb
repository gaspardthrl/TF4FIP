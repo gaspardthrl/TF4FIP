{
  "cells": [
    {
      "cell_type": "markdown",
      "metadata": {},
      "source": [
        "# Installation"
      ]
    },
    {
      "cell_type": "markdown",
      "metadata": {},
      "source": [
        "Python version: python3.8 -q"
      ]
    },
    {
      "cell_type": "markdown",
      "metadata": {},
      "source": [
        "TODO :\n",
        "What should I do with this?"
      ]
    },
    {
      "cell_type": "code",
      "execution_count": null,
      "metadata": {
        "collapsed": true,
        "id": "ZdhIPZjW08xQ"
      },
      "outputs": [],
      "source": [
        "import pandas as pd\n",
        "import ast\n",
        "\n",
        "# Assuming your DataFrame is named 'data' and the column with the lists is named 'score'\n",
        "\n",
        "# Step 1: Convert the string representation of lists into actual lists\n",
        "data['score'] = data['score'].apply(ast.literal_eval)\n",
        "data['APE'] = data['APE'].apply(ast.literal_eval)\n",
        "data['SIGN'] = data['SIGN'].apply(ast.literal_eval)\n",
        "\n",
        "\n",
        "# Step 2: Create a DataFrame from the lists and expand the columns\n",
        "score_df = pd.DataFrame(data['score'].tolist(), index=data.index)\n",
        "ape_df = pd.DataFrame(data['APE'].tolist(), index=data.index)\n",
        "sign_df = pd.DataFrame(data['SIGN'].tolist(), index=data.index)\n",
        "\n",
        "# Step 3: Rename the columns to SCORE_1, SCORE_2, ..., SCORE_12\n",
        "score_df.columns = [f'SCORE_{i+1}' for i in range(score_df.shape[1])]\n",
        "ape_df.columns = [f'APE_{i+1}' for i in range(ape_df.shape[1])]\n",
        "sign_df.columns = [f'SIGN_{i+1}' for i in range(sign_df.shape[1])]\n",
        "\n",
        "\n",
        "# Step 4: (Optional) Concatenate this new DataFrame with the original DataFrame\n",
        "data = pd.concat([data, score_df, ape_df, sign_df], axis=1)"
      ]
    },
    {
      "cell_type": "code",
      "execution_count": null,
      "metadata": {
        "id": "44lJ84Xu-jBN"
      },
      "outputs": [],
      "source": [
        "def sigmoid(x):\n",
        "    return 1 / (1 + np.exp(-x))\n",
        "\n",
        "# TODO why do we normalize this?\n",
        "for col in data.columns:\n",
        "    if \"SCORE_\" in col:\n",
        "        data[f\"{col}_Normalized\"] = (data[col]-data[col].mean())/data[col].std()\n",
        "        data[f\"{col}_Sigmoid\"] = sigmoid(data[f\"{col}_Normalized\"])"
      ]
    },
    {
      "cell_type": "code",
      "execution_count": null,
      "metadata": {
        "id": "ErrrsNEGXK9X"
      },
      "outputs": [],
      "source": [
        "data.drop(columns=[\"score\", \"APE\", \"SIGN\"], inplace=True)"
      ]
    },
    {
      "cell_type": "code",
      "execution_count": null,
      "metadata": {
        "id": "1i1zgg6wx4o1"
      },
      "outputs": [],
      "source": [
        "feature_cols = [\n",
        "    'Volume', 'ROC_Volume',\n",
        "    'EMROC_Volume', 'ATR_10',\n",
        "    'RSI', 'DistanceToMM20', 'DistanceToMM60', 'DistanceToEMM20',\n",
        "    'DistanceToEMM60'\n",
        "]\n",
        "\n",
        "# Define target groups\n",
        "target_groups = {\n",
        "    'SCORE': [f'SCORE_{i}' for i in range(1, 13)],\n",
        "    'SIGN': [f'SIGN_{i}' for i in range(1, 13)],\n",
        "    'APE': [f'APE_{i}' for i in range(1, 13)]\n",
        "}"
      ]
    },
    {
      "cell_type": "markdown",
      "metadata": {},
      "source": [
        "# The Data"
      ]
    },
    {
      "cell_type": "markdown",
      "metadata": {},
      "source": [
        "When fetching the ticker ES=F from Yahoo Finance, we obtain these columns:\n",
        "\n",
        "Price\t       Datetime\t             Close\t High\t  Low\t Open\tVolume\n",
        "0\t    2024-02-22 17:00:00-06:00\t5099.00\t5100.50\t5094.00\t5094.25\t0\n",
        "1\t    2024-02-22 18:00:00-06:00\t5095.75\t5099.25\t5092.25\t5098.75\t9420\n",
        "2\t    2024-02-22 19:00:00-06:00\t5099.50\t5101.75\t5095.00\t5095.75\t7390\n",
        "3\t    2024-02-22 20:00:00-06:00\t5100.25\t5102.50\t5099.50\t5099.75\t4922\n",
        "4\t    2024-02-22 21:00:00-06:00\t5101.25\t5102.00\t5099.75\t5100.50\t4426\n",
        "\n",
        "The date time format corresponds to:\n",
        "\n",
        "- YYYY-MM-DD → The date (Year-Month-Day)\n",
        "- HH:MM:SS → The time in 24-hour format (Hour:Minute:Second)\n",
        "- 06:00 → The timezone offset from UTC, which in this case is UTC-6 (Central Time, since you set tz=\"America/Chicago\")\n",
        "\n"
      ]
    },
    {
      "cell_type": "markdown",
      "metadata": {
        "id": "y8Q3aHyr8d6C"
      },
      "source": [
        "# Checkpoint"
      ]
    },
    {
      "cell_type": "code",
      "execution_count": null,
      "metadata": {
        "id": "yKyAsuTCFKDc"
      },
      "outputs": [],
      "source": [
        "import shap\n",
        "import pandas as pd\n",
        "import numpy as np\n",
        "import matplotlib.pyplot as plt\n",
        "import tensorflow as tf\n",
        "from tensorflow.keras.models import Sequential\n",
        "from tensorflow.keras.layers import Dense, BatchNormalization, Dropout\n",
        "from sklearn.preprocessing import StandardScaler\n",
        "\n",
        "def preprocess_features(df, feature_cols):\n",
        "    \"\"\"\n",
        "    Preprocess features with robust handling of outliers and infinite values\n",
        "    \"\"\"\n",
        "    features = df[feature_cols].select_dtypes(include=[np.number]).copy()\n",
        "\n",
        "    # Replace infinite values with NaN\n",
        "    features = features.replace([np.inf, -np.inf], np.nan)\n",
        "\n",
        "    # Calculate robust statistics for each column\n",
        "    medians = features.median()\n",
        "    q1 = features.quantile(0.25)\n",
        "    q3 = features.quantile(0.75)\n",
        "    iqr = q3 - q1\n",
        "    lower_bound = q1 - 1.5 * iqr\n",
        "    upper_bound = q3 + 1.5 * iqr\n",
        "\n",
        "    # Replace outliers and NaN values with median\n",
        "    for col in features.columns:\n",
        "        mask = (features[col] < lower_bound[col]) | (features[col] > upper_bound[col]) | features[col].isna()\n",
        "        features.loc[mask, col] = medians[col]\n",
        "\n",
        "    return features\n",
        "\n",
        "def analyze_shap_values_with_beeswarm(df, feature_cols, target_cols):\n",
        "    \"\"\"\n",
        "    Analyze SHAP values and create beeswarm plots for multiple targets using DeepSHAP\n",
        "    With robust preprocessing and outlier handling\n",
        "    \"\"\"\n",
        "    print(\"TensorFlow GPU available:\", tf.config.list_physical_devices('GPU'))\n",
        "\n",
        "    # Robust preprocessing\n",
        "    print(\"Preprocessing features...\")\n",
        "    features = preprocess_features(df, feature_cols)\n",
        "\n",
        "    # Standardize features\n",
        "    scaler = StandardScaler()\n",
        "    features_scaled = pd.DataFrame(\n",
        "        scaler.fit_transform(features),\n",
        "        columns=features.columns,\n",
        "        index=features.index\n",
        "    )\n",
        "\n",
        "    results = {}\n",
        "    shap_values_dict = {}\n",
        "\n",
        "    for target in target_cols:\n",
        "        print(f\"\\nTraining model for target: {target}\")\n",
        "\n",
        "        # Prepare target variable with robust preprocessing\n",
        "        y = df[target].copy()\n",
        "        y = y.replace([np.inf, -np.inf], np.nan)\n",
        "        y_median = y.median()\n",
        "        y_q1 = y.quantile(0.25)\n",
        "        y_q3 = y.quantile(0.75)\n",
        "        y_iqr = y_q3 - y_q1\n",
        "        y_lower = y_q1 - 1.5 * y_iqr\n",
        "        y_upper = y_q3 + 1.5 * y_iqr\n",
        "        mask = (y < y_lower) | (y > y_upper) | y.isna()\n",
        "        y[mask] = y_median\n",
        "\n",
        "        # Standardize target\n",
        "        y_scaled = (y - y.mean()) / y.std()\n",
        "\n",
        "        # Build model\n",
        "        model = Sequential([\n",
        "            Dense(128, input_shape=(features.shape[1],)),\n",
        "            BatchNormalization(),\n",
        "            Dense(64, activation='relu'),\n",
        "            BatchNormalization(),\n",
        "            Dropout(0.3),\n",
        "            Dense(32, activation='relu'),\n",
        "            BatchNormalization(),\n",
        "            Dropout(0.2),\n",
        "            Dense(1, activation='linear')\n",
        "        ])\n",
        "\n",
        "        # Compile with smaller learning rate\n",
        "        model.compile(\n",
        "            optimizer=tf.keras.optimizers.Adam(learning_rate=0.001),\n",
        "            loss='mse',\n",
        "            metrics=['mae']\n",
        "        )\n",
        "\n",
        "        # Train with early stopping\n",
        "        early_stopping = tf.keras.callbacks.EarlyStopping(\n",
        "            monitor='loss',\n",
        "            patience=3,\n",
        "            restore_best_weights=True\n",
        "        )\n",
        "\n",
        "        # Verify data is finite\n",
        "        assert np.all(np.isfinite(features_scaled)), \"Features contain non-finite values\"\n",
        "        assert np.all(np.isfinite(y_scaled)), \"Target contains non-finite values\"\n",
        "\n",
        "        print(f\"Feature stats - min: {features_scaled.min().min():.2f}, max: {features_scaled.max().max():.2f}\")\n",
        "        print(f\"Target stats - min: {y_scaled.min():.2f}, max: {y_scaled.max():.2f}\")\n",
        "\n",
        "        # Train the model\n",
        "        history = model.fit(\n",
        "            features_scaled,\n",
        "            y_scaled,\n",
        "            epochs=5,\n",
        "            batch_size=64,\n",
        "            validation_split=0.2,\n",
        "            callbacks=[early_stopping],\n",
        "            verbose=1\n",
        "        )\n",
        "\n",
        "        print(f\"Final training loss: {history.history['loss'][-1]:.4f}\")\n",
        "\n",
        "        try:\n",
        "            print(\"Calculating SHAP values...\")\n",
        "            # Use first 100 samples as background\n",
        "            background = features_scaled.iloc[:100]\n",
        "            explainer = shap.DeepExplainer(model, background)\n",
        "\n",
        "            # Calculate SHAP values in smaller batches\n",
        "            batch_size = 500\n",
        "            all_shap_values = []\n",
        "\n",
        "            for i in range(0, len(features_scaled), batch_size):\n",
        "                batch = features_scaled.iloc[i:i+batch_size]\n",
        "                batch_values = explainer.shap_values(batch)\n",
        "\n",
        "                if isinstance(batch_values, list):\n",
        "                    batch_values = batch_values[0]\n",
        "\n",
        "                all_shap_values.append(batch_values)\n",
        "\n",
        "            shap_values = np.vstack(all_shap_values)\n",
        "\n",
        "            # Store results\n",
        "            results[target] = pd.DataFrame({\n",
        "                'feature': feature_cols,\n",
        "                'importance': np.abs(shap_values).mean(axis=0)\n",
        "            }).sort_values('importance', ascending=False)\n",
        "\n",
        "            shap_values_dict[target] = {\n",
        "                'values': shap_values,\n",
        "                'features': features_scaled\n",
        "            }\n",
        "\n",
        "            # Create and save plot\n",
        "            plt.figure(figsize=(12, 8))\n",
        "            shap.plots.beeswarm(\n",
        "                shap.Explanation(\n",
        "                    values=shap_values,\n",
        "                    data=features_scaled,\n",
        "                    feature_names=features_scaled.columns\n",
        "                ),\n",
        "                max_display=20\n",
        "            )\n",
        "            plt.title(f'SHAP Values Beeswarm Plot for {target}')\n",
        "            plt.tight_layout()\n",
        "\n",
        "            plot_filename = f\"SHAP/{target}_SHAP_beeswarm_plot.png\"\n",
        "            plt.savefig(plot_filename, bbox_inches='tight', dpi=300)\n",
        "            #plt.close()\n",
        "\n",
        "        except Exception as e:\n",
        "            print(f\"Error processing {target}: {str(e)}\")\n",
        "            continue\n",
        "\n",
        "    return results, shap_values_dict\n",
        "\n",
        "# Example usage:\n",
        "# score_results, score_shap_values = analyze_shap_values_with_beeswarm(\n",
        "#     df,\n",
        "#     feature_cols=feature_cols,\n",
        "#     target_cols=['SIGN_1']\n",
        "# )"
      ]
    },
    {
      "cell_type": "code",
      "execution_count": null,
      "metadata": {
        "collapsed": true,
        "id": "fdnzlYXcZYTP"
      },
      "outputs": [],
      "source": [
        "%pip install tensorflow==2.3.0"
      ]
    },
    {
      "cell_type": "code",
      "execution_count": null,
      "metadata": {
        "id": "eAMgs9qJaymB"
      },
      "outputs": [],
      "source": [
        "import tensorflow as tf\n",
        "import pip\n",
        "\n",
        "pip.main(['install', 'tensorflow==2.3.0'])"
      ]
    },
    {
      "cell_type": "code",
      "execution_count": null,
      "metadata": {
        "id": "Fkhai5fOyaCv"
      },
      "outputs": [],
      "source": [
        "df = data.copy()\n",
        "for i in range(1, 2):\n",
        "  score_results, score_shap_values = analyze_shap_values_with_beeswarm(\n",
        "      df,\n",
        "      feature_cols=feature_cols,\n",
        "      target_cols=[f'SIGN_{i}']  # Using fewer targets for clarity\n",
        "  )\n",
        "\n",
        "\"\"\"\n",
        "# Similarly for SIGN and APE:\n",
        "sign_results = analyze_shap_values(df, feature_cols, [f'SIGN_{i}' for i in range(1, 13)])\n",
        "ape_results = analyze_shap_values(df, feature_cols, [f'APE_{i}' for i in range(1, 13)])\n",
        "\n",
        "plot_feature_importance(sign_results, 'SIGN')\n",
        "plt.show()\n",
        "plot_feature_importance(ape_results, 'APE')\n",
        "plt.show()\n",
        "\"\"\""
      ]
    },
    {
      "cell_type": "code",
      "execution_count": null,
      "metadata": {
        "id": "ju8OySveRbVe"
      },
      "outputs": [],
      "source": [
        "!sudo apt-get install python3.8"
      ]
    },
    {
      "cell_type": "code",
      "execution_count": null,
      "metadata": {
        "id": "TBtQK5Q0S5z4"
      },
      "outputs": [],
      "source": [
        "\n"
      ]
    },
    {
      "cell_type": "code",
      "execution_count": null,
      "metadata": {
        "id": "p91-ML13TOjf"
      },
      "outputs": [],
      "source": [
        "!python --version"
      ]
    },
    {
      "cell_type": "code",
      "execution_count": null,
      "metadata": {
        "id": "_Jr_glJbTQBG"
      },
      "outputs": [],
      "source": [
        "%pip install tensorflow==2.4.0"
      ]
    },
    {
      "cell_type": "code",
      "execution_count": null,
      "metadata": {
        "id": "Uucrm4cp3-9W"
      },
      "outputs": [],
      "source": [
        "targets = [f\"SIGN_{i}\" for i in range(1, 13)] + [f\"APE_{i}\" for i in range(1, 13)] + [f\"SCORE_{i}\" for i in range(1, 13)]\n",
        "\n",
        "variables = feature_cols"
      ]
    },
    {
      "cell_type": "code",
      "execution_count": null,
      "metadata": {
        "id": "yaAhw6fe5_uT"
      },
      "outputs": [],
      "source": [
        "data[variables[0]].describe()"
      ]
    },
    {
      "cell_type": "code",
      "execution_count": null,
      "metadata": {
        "id": "f8vUuGeS-tw7"
      },
      "outputs": [],
      "source": [
        "data[[f\"APE_{i}\" for i in range(1, 13)]].max()"
      ]
    },
    {
      "cell_type": "code",
      "execution_count": null,
      "metadata": {
        "id": "kVbHOZpm4cs-"
      },
      "outputs": [],
      "source": [
        "import matplotlib.pyplot as plt\n",
        "import pandas as pd\n",
        "import os\n",
        "\n",
        "# Ensure the output directory exists\n",
        "os.makedirs(\"plots\", exist_ok=True)\n",
        "\n",
        "\"\"\"\n",
        "max_sign_value = -float(\"inf\")\n",
        "min_sign_value = float(\"inf\")\n",
        "\n",
        "max_ape_value = -float(\"inf\")\n",
        "min_ape_value = float(\"inf\")\n",
        "\n",
        "max_score_value = -float(\"inf\")\n",
        "min_score_value = float(\"inf\")\n",
        "\"\"\"\n",
        "\n",
        "for target in targets:\n",
        "    plt.figure(figsize=(14, 8))\n",
        "\n",
        "    \"\"\"\n",
        "    max_value = -float(\"inf\")\n",
        "    min_value = float(\"inf\")\n",
        "    \"\"\"\n",
        "\n",
        "    if \"SIGN\" in target:\n",
        "        max_value = max_sign_value\n",
        "        min_value = min_sign_value\n",
        "\n",
        "    elif \"APE\" in target:\n",
        "        max_value = max_ape_value\n",
        "        min_value = min_ape_value\n",
        "\n",
        "    elif \"SCORE\" in target:\n",
        "        max_value = max_score_value\n",
        "        min_value = min_score_value\n",
        "\n",
        "\n",
        "    for variable in variables:\n",
        "        df = data.copy()\n",
        "        df[f\"{variable}_bucket\"] = pd.qcut(df[variable], 10, labels=False)\n",
        "\n",
        "        # Calculate bucket means\n",
        "        bucket_means = df.groupby(f\"{variable}_bucket\")[target].mean().reset_index()\n",
        "\n",
        "        # Find the maximum and minimum values\n",
        "        \"\"\"\n",
        "        max_value = max(max_value, bucket_means[target].max())\n",
        "        min_value = min(min_value, bucket_means[target].min())\n",
        "        \"\"\"\n",
        "\n",
        "        # Plot each variable on the same plot\n",
        "        plt.plot(bucket_means[f\"{variable}_bucket\"],\n",
        "                 bucket_means[target],\n",
        "                 marker='o',\n",
        "                 label=variable)\n",
        "    \"\"\"\n",
        "    if target[-2:] != \"_1\":\n",
        "        if \"SIGN\" in target:\n",
        "            max_sign_value = max(max_sign_value, max_value)\n",
        "            min_sign_value = min(min_sign_value, min_value)\n",
        "\n",
        "        elif \"APE\" in target:\n",
        "            max_ape_value = max(max_ape_value, max_value)\n",
        "            min_ape_value = min(min_ape_value, min_value)\n",
        "\n",
        "        elif \"SCORE\" in target:\n",
        "            max_score_value = max(max_score_value, max_value)\n",
        "            min_score_value = min(min_score_value, min_value)\n",
        "    \"\"\"\n",
        "    plt.axhline(y=0, color='gray', linestyle='--', linewidth=1)\n",
        "\n",
        "\n",
        "    if target[-2:] != \"_1\":\n",
        "        plt.ylim(min_value, max_value)\n",
        "\n",
        "\n",
        "    # Add plot details\n",
        "    plt.xlabel('Percentile Bucket')\n",
        "    plt.ylabel(f'Mean {target}')\n",
        "    plt.title(f'Mean {target} Across Different Variables per Percentile Bucket')\n",
        "    plt.legend(title='Variable', bbox_to_anchor=(1.05, 1), loc='upper left')\n",
        "    plt.tight_layout()\n",
        "\n",
        "    # Save plot\n",
        "    plot_filename = f\"plots/{target}_grouped_percentile_plot.png\"\n",
        "    plt.savefig(plot_filename, bbox_inches='tight', dpi=300)\n",
        "    plt.close()\n",
        "\n",
        "    print(f\"Grouped plot saved as {plot_filename}\")\n"
      ]
    },
    {
      "cell_type": "code",
      "execution_count": null,
      "metadata": {
        "id": "Lv5owlGnV7sB"
      },
      "outputs": [],
      "source": [
        "sign_lim = (min_sign_value, max_sign_value)\n",
        "ape_lim = (min_ape_value, max_ape_value)\n",
        "score_lim = (min_score_value, max_score_value)"
      ]
    },
    {
      "cell_type": "code",
      "execution_count": null,
      "metadata": {
        "id": "-Loq31FrWqPu"
      },
      "outputs": [],
      "source": [
        "sign_lim"
      ]
    },
    {
      "cell_type": "code",
      "execution_count": null,
      "metadata": {
        "id": "UpBD8qQEHT6U"
      },
      "outputs": [],
      "source": [
        "import pandas as pd\n",
        "import matplotlib.pyplot as plt\n",
        "from sklearn.ensemble import RandomForestClassifier\n",
        "from sklearn.model_selection import train_test_split\n",
        "from imblearn.over_sampling import RandomOverSampler\n",
        "\n",
        "# Assuming 'data' is already defined with your features and target\n",
        "\n",
        "classifiers = dict()\n",
        "index = 1\n",
        "\n",
        "# Loop through all columns with 'SIGN_' to train models\n",
        "for col in data.columns:\n",
        "    if \"SIGN_\" in col:\n",
        "        X = data[['Hour_sin', 'Hour_cos', 'Day_sin', 'Day_cos', 'Week_sin', 'Week_cos',\n",
        "                  \"EMROC_Close\", \"EMROC_Volume\", \"ATR_10\", \"RSI\", 'DistanceToMM20',\n",
        "                  'DistanceToMM60', 'DistanceToEMM20', 'DistanceToEMM60']]\n",
        "        y = data[col]\n",
        "        X_train, X_test, y_train, y_test = train_test_split(X, y, test_size=0.2, random_state=42)\n",
        "\n",
        "        # Initialize the RandomForestClassifier\n",
        "        rf = RandomForestClassifier(n_estimators=100, random_state=42)\n",
        "        rf.fit(X_train, y_train)\n",
        "\n",
        "        classifiers[index] = {\n",
        "            \"model\": rf,\n",
        "            \"X_train\": X_train,\n",
        "            \"X_test\": X_test,\n",
        "            \"y_train\": y_train,\n",
        "            \"y_test\": y_test\n",
        "        }\n",
        "\n",
        "        index += 1\n",
        "\n",
        "# You can also check for other time-related correlations, such as Day or Week"
      ]
    },
    {
      "cell_type": "code",
      "execution_count": null,
      "metadata": {
        "id": "I2_2ag4HGfva"
      },
      "outputs": [],
      "source": [
        "! zip -r plots.zip plots"
      ]
    },
    {
      "cell_type": "code",
      "execution_count": null,
      "metadata": {
        "id": "RbuLj-pODVXy"
      },
      "outputs": [],
      "source": [
        "predictions_dfs = dict()\n",
        "\n",
        "for key, values in classifiers.items():\n",
        "    value = list(values.values())\n",
        "    predictions = value[0].predict(value[2])\n",
        "    predictions_df = data[['Hour', 'Day', 'Week', 'Hour_sin', 'Hour_cos', 'Day_sin', 'Day_cos', 'Week_sin', 'Week_cos',\n",
        "                  \"EMROC_Close\", \"EMROC_Volume\", \"ATR_10\", \"RSI\", 'DistanceToMM20',\n",
        "                  'DistanceToMM60', 'DistanceToEMM20', 'DistanceToEMM60']].copy()\n",
        "\n",
        "    predictions_df = pd.concat([predictions_df, value[4]], axis=1)\n",
        "    predictions_df.dropna(inplace=True)\n",
        "    predictions_df[f\"SIGN_{key}_Prediction\"] = predictions\n",
        "    predictions_df[\"Result\"] = predictions_df[f\"SIGN_{key}_Prediction\"] == predictions_df[f\"SIGN_{key}\"]\n",
        "    predictions_dfs[key] = predictions_df\n",
        "    print(classification_report(value[4], value[0].predict(value[2])))"
      ]
    },
    {
      "cell_type": "code",
      "execution_count": null,
      "metadata": {
        "id": "7I46NpIUbPfg"
      },
      "outputs": [],
      "source": [
        "import matplotlib.pyplot as plt\n",
        "import seaborn as sns\n",
        "\n",
        "# Example: assuming Hour is [0..23], Day is [0..6], Week is a numeric week index.\n",
        "# If these are not the correct ranges or formats, adjust accordingly.\n",
        "\n",
        "for i, df in enumerate(predictions_dfs.values(), 1):\n",
        "    # Group and compute mean performance\n",
        "    hour_performance = df.groupby('Hour')['Result'].mean()  # Keep natural hourly order\n",
        "    day_performance = df.groupby('Day')['Result'].mean()    # Keep natural daily order\n",
        "    week_performance = df.groupby('Week')['Result'].mean()  # Keep natural weekly order\n",
        "\n",
        "    # Create a figure with three subplots\n",
        "    fig, axs = plt.subplots(3, 1, figsize=(10, 15))\n",
        "    fig.suptitle(f'Model Performance Patterns (DataFrame #{i})', fontsize=16, y=0.95)\n",
        "\n",
        "    # Hourly performance plot\n",
        "    sns.barplot(x=hour_performance.index, y=hour_performance.values, ax=axs[0], color=\"skyblue\")\n",
        "    axs[0].set_title('Mean Performance by Hour', fontsize=14)\n",
        "    axs[0].set_xlabel('Hour of the Day')\n",
        "    axs[0].set_ylabel('Mean Result')\n",
        "\n",
        "    # Daily performance plot\n",
        "    sns.barplot(x=day_performance.index, y=day_performance.values, ax=axs[1], color=\"lightgreen\")\n",
        "    axs[1].set_title('Mean Performance by Day', fontsize=14)\n",
        "    axs[1].set_xlabel('Day of the Week')\n",
        "    axs[1].set_ylabel('Mean Result')\n",
        "    # If day coding is known (e.g., 0=Monday), add custom labels:\n",
        "    axs[1].set_xticklabels(['Mon', 'Tue', 'Wed', 'Thu', 'Fri', 'Sat', 'Sun'])\n",
        "\n",
        "    # Weekly performance plot\n",
        "    sns.barplot(x=week_performance.index, y=week_performance.values, ax=axs[2], color=\"salmon\")\n",
        "    axs[2].set_title('Mean Performance by Week', fontsize=14)\n",
        "    axs[2].set_xlabel('Week')\n",
        "    axs[2].set_ylabel('Mean Result')\n",
        "\n",
        "    plt.tight_layout()\n",
        "    plt.show()"
      ]
    },
    {
      "cell_type": "code",
      "execution_count": null,
      "metadata": {
        "id": "kyFcOK_nsXeh"
      },
      "outputs": [],
      "source": [
        "import pandas as pd\n",
        "import numpy as np\n",
        "import matplotlib.pyplot as plt\n",
        "from sklearn.cluster import KMeans\n",
        "\n",
        "# Example DataFrame (replace with your data)\n",
        "df = pd.read_csv('results_BTC=F_384.csv')\n",
        "\n",
        "# Select the variable to segment by (e.g., 'ATR_10')\n",
        "variable = 'ATR_10'\n",
        "targets = ['score', 'APE', 'SIGN']\n",
        "\n",
        "# Step 1: Find dynamic thresholds using KMeans\n",
        "def get_thresholds(data, n_clusters=3):\n",
        "    valid_data = data.dropna().values.reshape(-1, 1)\n",
        "    kmeans = KMeans(n_clusters=n_clusters, random_state=42, n_init=10)\n",
        "    kmeans.fit(valid_data)\n",
        "    thresholds = sorted(kmeans.cluster_centers_.flatten())\n",
        "    return thresholds\n",
        "\n",
        "# Step 2: Create segments\n",
        "def segment_data(df, variable, thresholds):\n",
        "    df['segment'] = pd.cut(df[variable], bins=[-np.inf] + thresholds + [np.inf], labels=False)\n",
        "    return df\n",
        "\n",
        "# Step 3: Plot histograms for targets across segments\n",
        "def plot_histograms(df, targets):\n",
        "    for target in targets:\n",
        "        plt.figure(figsize=(10, 6))\n",
        "        for segment in sorted(df['segment'].unique()):\n",
        "            subset = df[df['segment'] == segment]\n",
        "            plt.hist(subset[target].dropna(), alpha=0.5, label=f'Segment {segment}', bins=30)\n",
        "        plt.title(f'{target} Distribution Across {variable} Segments')\n",
        "        plt.xlabel(target)\n",
        "        plt.ylabel('Frequency')\n",
        "        plt.legend()\n",
        "        plt.show()\n",
        "\n",
        "# Main execution\n",
        "if variable in df.columns:\n",
        "    thresholds = get_thresholds(df[variable])\n",
        "    df = segment_data(df, variable, thresholds)\n",
        "    plot_histograms(df, targets)\n",
        "else:\n",
        "    print(f\"Variable {variable} not found in DataFrame columns.\")\n"
      ]
    },
    {
      "cell_type": "code",
      "execution_count": null,
      "metadata": {
        "id": "pbQ3MoersZlT"
      },
      "outputs": [],
      "source": [
        "str(df.describe())"
      ]
    },
    {
      "cell_type": "code",
      "execution_count": null,
      "metadata": {
        "id": "icwvhAgcu5O4"
      },
      "outputs": [],
      "source": [
        "df.describe()"
      ]
    },
    {
      "cell_type": "markdown",
      "metadata": {
        "id": "c6CZBqigaXMD"
      },
      "source": [
        "# Precision Comparison"
      ]
    },
    {
      "cell_type": "markdown",
      "metadata": {},
      "source": [
        "### Precision function"
      ]
    },
    {
      "cell_type": "code",
      "execution_count": null,
      "metadata": {
        "id": "Sjbffqt1vrUW"
      },
      "outputs": [],
      "source": [
        "# import pandas as pd\n",
        "# import matplotlib.pyplot as plt\n",
        "# import ast\n",
        "# import numpy as np\n",
        "\n",
        "\n",
        "# def precision(file_path, data = None, rf=False, target = \"Close_denoised_standardized\", horizon = 3, threshold_column=None, quantile = 0, day = 0, hour = 10):\n",
        "#     \"\"\"\n",
        "#     Calculates the precision of the predictions for all given horizons.\n",
        "      \n",
        "#     Parameters:\n",
        "#     file_path (str): Path to the CSV file (used if `data` is not provided).\n",
        "#     data (pd.DataFrame, optional): DataFrame containing the dataset (if provided, skips reading from CSV).\n",
        "#     rf (bool, optional): If True, uses a different method based on \"Pred Evolution\" columns (default: False).\n",
        "#     target (str, optional): Column name containing the target variable (default: \"Close_denoised_standardized\").\n",
        "#     horizon (int, optional): Number of future time steps to evaluate (default: 3).\n",
        "#     threshold_column (str, optional): Column used for filtering rows based on quantile (default: None).\n",
        "#     quantile (float, optional): Quantile threshold for filtering data when `threshold_column` is provided (default: 0).\n",
        "#     day (int or None, optional): If not None, filters the dataset for the given day (default: 0).\n",
        "#     hour (int or None, optional): If not None, filters the dataset for the given hour (default: 10).\n",
        "    \n",
        "#     Returns:\n",
        "#     list: Precision values for each horizon step.\n",
        "#     \"\"\"\n",
        "        \n",
        "#     if data is None:\n",
        "#         df = pd.read_csv(file_path, parse_dates = True, index_col = 0)\n",
        "#     else:\n",
        "#         df = data.copy()\n",
        "\n",
        "#     df.dropna(inplace=True) #remove NaN values\n",
        "#     print(df.shape)\n",
        "\n",
        "#     def atr(target, horizon = 3, threshold_column = None, q = 0):\n",
        "#         i = 0\n",
        "#         TP = [0 for k in range(horizon)]\n",
        "#         TN = [0 for k in range(horizon)]\n",
        "#         FP = [0 for k in range(horizon)]\n",
        "#         FN = [0 for k in range(horizon)]\n",
        "#         if threshold_column is not None:\n",
        "#             threshold = df[threshold_column].quantile(q)\n",
        "\n",
        "#         if rf:\n",
        "#           for i in range(len(df)):\n",
        "#               if threshold_column is not None and df[threshold_column].iloc[i] <= threshold:\n",
        "#                     continue\n",
        "#               for j in range(horizon):\n",
        "#                   if df[\"Pred Evolution \"+str(j+1)].iloc[i] == 1 and df[\"Evolution \"+str(j+1)].iloc[i] == 1:\n",
        "#                       TP[j] += 1\n",
        "#                   elif df[\"Pred Evolution \"+str(j+1)].iloc[i] == 1:\n",
        "#                       FP[j] += 1\n",
        "#                   elif df[\"Pred Evolution \"+str(j+1)].iloc[i] == -1 and df[\"Evolution \"+str(j+1)].iloc[i] == -1:\n",
        "#                       TN[j] += 1\n",
        "#                   elif df[\"Pred Evolution \"+str(j+1)].iloc[i] == -1:\n",
        "#                       FN[j] += 1\n",
        "#           return list(map(lambda x: x[0]/(x[0]+x[1]), zip(TP, FP))) # return the precision for all horizons\n",
        "\n",
        "#         while i < len(df)-13: # the -13 is to avoid index out of range error. We are trying to predict the next 12 hours\n",
        "#             try:\n",
        "#                 # day/hour filtering\n",
        "#                 if day is not None and df[\"Day\"].iloc[i] != day: # If yes we skip the row\n",
        "#                     i += 1 \n",
        "#                     continue\n",
        "#                 if hour is not None and df[\"Hour\"].iloc[i] != hour: # If yes we skip the row\n",
        "#                     i += 1\n",
        "#                     continue\n",
        "\n",
        "#                 # threshold filter\n",
        "#                 if threshold_column is not None and df[threshold_column].iloc[i] <= threshold: # if below the threshold we skip the row\n",
        "#                     i += 1\n",
        "#                     continue\n",
        "            \n",
        "#                 # actual signs calculation\n",
        "#                 base = df[target].iloc[i] # take all the values in the target column corresponding to the ith row\n",
        "#                 signs = list()\n",
        "#                 for j in range(1, horizon+1): # horizon is indexed from 1 to 3\n",
        "#                     y = df[target].iloc[i+j]\n",
        "#                     signs.append(int(np.sign(base-y))) # compute the sign of the difference between the base and the ith row for each horizon\n",
        "#                 i+=1\n",
        "#                 pred_signs = ast.literal_eval(df[\"SIGN\"].iloc[i]) # for example, converts \"[1, -1, 1]\" to a python list [1, -1, 1]\n",
        "#                 for j in range(horizon):\n",
        "#                     if pred_signs[j] == 1 and signs[j] == -1:\n",
        "#                         TN[j] += 1\n",
        "#                     elif pred_signs[j] == 1:\n",
        "#                         TP[j] += 1\n",
        "#                     elif pred_signs[j] == -1 and signs[j] == -1:\n",
        "#                         FP[j] += 1\n",
        "#                     elif pred_signs[j] == -1:\n",
        "#                         FN[j] += 1\n",
        "#             except Exception as e:\n",
        "#                 print(i)\n",
        "#                 break\n",
        "#         print(f\"True Positive (TP): {TP}, True Negative (TN): {TN}, False Positive (FP): {FP}, False Negative (FN): {FN}\")\n",
        "#         return list(map(lambda x: x[0]/(x[0]+x[1]), zip(TP, FP))) \n",
        "#     return atr(target, horizon, threshold_column, quantile)"
      ]
    },
    {
      "cell_type": "code",
      "execution_count": 1,
      "metadata": {},
      "outputs": [],
      "source": [
        "import pandas as pd\n",
        "import matplotlib.pyplot as plt\n",
        "import ast\n",
        "import numpy as np\n",
        "\n",
        "def precision(file_path, \n",
        "              data=None, \n",
        "              rf=False, \n",
        "              target=\"Close_denoised_standardized\",\n",
        "              horizon=3, \n",
        "              threshold_column=None, \n",
        "              quantile=0, \n",
        "              day=None, \n",
        "              hour=None,\n",
        "              months=None,\n",
        "              quarters=None):\n",
        "    \"\"\"\n",
        "    Calculates the precision of the predictions for all given horizons.\n",
        "      \n",
        "    Parameters:\n",
        "    file_path (str): Path to the CSV file (used if `data` is not provided).\n",
        "    data (pd.DataFrame, optional): DataFrame containing the dataset (if provided, skips reading from CSV).\n",
        "    rf (bool, optional): If True, uses a different method based on \"Pred Evolution\" columns (default: False).\n",
        "    target (str, optional): Column name containing the target variable (default: \"Close_denoised_standardized\").\n",
        "    horizon (int, optional): Number of future time steps to evaluate (default: 3).\n",
        "    threshold_column (str, optional): Column used for filtering rows based on quantile (default: None).\n",
        "    quantile (float, optional): Quantile threshold for filtering data when `threshold_column` is provided (default: 0).\n",
        "    day (int or None, optional): If not None, filters the dataset for the given day (default: 0).\n",
        "    hour (int or None, optional): If not None, filters the dataset for the given hour (default: 10).\n",
        "\n",
        "    months (list of int, optional): List of months to keep (e.g. [1,2,3]). If None or empty, no month-based filtering.\n",
        "    quarters (list of int, optional): List of quarters to keep (e.g. [1,2]). If None or empty, no quarter-based filtering.\n",
        "\n",
        "    Returns:\n",
        "    list: Precision values for each horizon step.\n",
        "    \"\"\"\n",
        "        \n",
        "    if data is None:\n",
        "        # Ensure pandas reads the index as datetime and preserves timezone\n",
        "        df = pd.read_csv(file_path, parse_dates=True, index_col=0)\n",
        "    else:\n",
        "        df = data.copy()\n",
        "\n",
        "    df.dropna(inplace=True)  # remove NaN values\n",
        "    # Force index to be in datetime format\n",
        "    if not isinstance(df.index, pd.DatetimeIndex):\n",
        "        df.index = pd.to_datetime(df.index, utc=True)  # Convert to datetime, force UTC\n",
        "\n",
        "    # Convert from UTC to local time (assuming original data is in GMT-6)\n",
        "    df.index = df.index.tz_convert(\"America/Chicago\")  # Convert to Central Time\n",
        "\n",
        "    # Remove timezone information, keeping the displayed local time\n",
        "    df.index = df.index.tz_localize(None)\n",
        "\n",
        "    # Ensure we have \"Month\" and \"Quarter\" columns to filter on\n",
        "    if 'Month' not in df.columns:\n",
        "        df['Month'] = df.index.month\n",
        "    if 'Quarter' not in df.columns:\n",
        "        df['Quarter'] = df.index.quarter\n",
        "\n",
        "    # Filter by months if provided\n",
        "    if months is not None and len(months) > 0:\n",
        "        df = df[df['Month'].isin(months)]\n",
        "    \n",
        "    # Filter by quarters if provided\n",
        "    if quarters is not None and len(quarters) > 0:\n",
        "        df = df[df['Quarter'].isin(quarters)]\n",
        "\n",
        "    def atr(target, horizon=3, threshold_column=None, q=0):\n",
        "        i = 0\n",
        "        TP = [0 for _ in range(horizon)]\n",
        "        TN = [0 for _ in range(horizon)]\n",
        "        FP = [0 for _ in range(horizon)]\n",
        "        FN = [0 for _ in range(horizon)]\n",
        "        \n",
        "        if threshold_column is not None:\n",
        "            threshold = df[threshold_column].quantile(q)\n",
        "\n",
        "        if rf:\n",
        "            for i in range(len(df)):\n",
        "                if threshold_column is not None and df[threshold_column].iloc[i] <= threshold:\n",
        "                    continue\n",
        "                for j in range(horizon):\n",
        "                    if df[f\"Pred Evolution {j+1}\"].iloc[i] == 1 and df[f\"Evolution {j+1}\"].iloc[i] == 1:\n",
        "                        TP[j] += 1\n",
        "                    elif df[f\"Pred Evolution {j+1}\"].iloc[i] == 1:\n",
        "                        FP[j] += 1\n",
        "                    elif df[f\"Pred Evolution {j+1}\"].iloc[i] == -1 and df[f\"Evolution {j+1}\"].iloc[i] == -1:\n",
        "                        TN[j] += 1\n",
        "                    elif df[f\"Pred Evolution {j+1}\"].iloc[i] == -1:\n",
        "                        FN[j] += 1\n",
        "            # Return precision for each horizon step\n",
        "            return [tp / (tp + fp) if (tp + fp) != 0 else 0 for tp, fp in zip(TP, FP)]\n",
        "\n",
        "        # If not rf:\n",
        "        while i < len(df) - 13:  # -13 to avoid index out of range (predict next 12 hours)\n",
        "            try:\n",
        "                # day/hour filtering (original code)\n",
        "                if day is not None and df[\"Day\"].iloc[i] != day:\n",
        "                    i += 1\n",
        "                    continue\n",
        "                if hour is not None and df[\"Hour\"].iloc[i] != hour:\n",
        "                    i += 1\n",
        "                    continue\n",
        "\n",
        "                # threshold filter (original code)\n",
        "                if threshold_column is not None and df[threshold_column].iloc[i] <= threshold:\n",
        "                    i += 1\n",
        "                    continue\n",
        "\n",
        "                # actual signs calculation (original code)\n",
        "                base = df[target].iloc[i]\n",
        "                signs = []\n",
        "                for j in range(1, horizon + 1):\n",
        "                    y = df[target].iloc[i + j]\n",
        "                    signs.append(int(np.sign(base - y)))\n",
        "\n",
        "                i += 1\n",
        "\n",
        "                # predicted signs from \"SIGN\" column (original code)\n",
        "                pred_signs = ast.literal_eval(df[\"SIGN\"].iloc[i])\n",
        "\n",
        "                # confusion matrix updates (original code)\n",
        "                for j in range(horizon):\n",
        "                    if pred_signs[j] == 1 and signs[j] == -1:\n",
        "                        TN[j] += 1\n",
        "                    elif pred_signs[j] == 1:\n",
        "                        TP[j] += 1\n",
        "                    elif pred_signs[j] == -1 and signs[j] == -1:\n",
        "                        FP[j] += 1\n",
        "                    elif pred_signs[j] == -1:\n",
        "                        FN[j] += 1\n",
        "\n",
        "            except Exception as e:\n",
        "                print(i, e)\n",
        "                break\n",
        "\n",
        "        print(f\"True Positive (TP): {TP}, True Negative (TN): {TN}, \"\n",
        "              f\"False Positive (FP): {FP}, False Negative (FN): {FN}\")\n",
        "        return [tp / (tp + fp) if (tp + fp) != 0 else 0 for tp, fp in zip(TP, FP)]\n",
        "\n",
        "    # Return the final list of precision values for each horizon\n",
        "    return atr(target, horizon, threshold_column, quantile)"
      ]
    },
    {
      "cell_type": "markdown",
      "metadata": {},
      "source": [
        "### Constants"
      ]
    },
    {
      "cell_type": "code",
      "execution_count": 2,
      "metadata": {},
      "outputs": [],
      "source": [
        "###############################################\n",
        "# Constants\n",
        "###############################################\n",
        "\n",
        "days = {\n",
        "    0: \"Monday\",\n",
        "    1: \"Tuesday\",\n",
        "    2: \"Wednesday\",\n",
        "    3: \"Thursday\",\n",
        "    4: \"Friday\",\n",
        "}\n",
        "day_labels = [v for k,v in days.items()]\n",
        "\n",
        "hours = {\n",
        "    0: \"12AM\",  1: \"1AM\",  2: \"2AM\",  3: \"3AM\",  4: \"4AM\",  5: \"5AM\",\n",
        "    6: \"6AM\",  7: \"7AM\",  8: \"8AM\",  9: \"9AM\",  10: \"10AM\", 11: \"11AM\",\n",
        "    12: \"12PM\", 13: \"1PM\", 14: \"2PM\", 15: \"3PM\", 16: \"4PM\", 17: \"5PM\",\n",
        "    18: \"6PM\", 19: \"7PM\", 20: \"8PM\", 21: \"9PM\", 22: \"10PM\", 23: \"11PM\"\n",
        "}\n",
        "\n",
        "hour_labels = ['12AM', '1AM', '2AM', '3AM', '4AM', '5AM', '6AM', '7AM', '8AM', '9AM', '10AM', '11AM', '12PM', '1PM', '2PM', '3PM', '4PM', '5PM-v', '6PM-v', '7PM-v', '8PM-v', '9PM-v', '10PM-v', '11PM-v']\n",
        "\n",
        "day_hours = {8: \"8AM\",  9: \"9AM\",  10: \"10AM\", 11: \"11AM\", 12: \"12PM\", 13: \"1PM\", 14: \"2PM\", 15: \"3PM\", 16: \"4PM\"}\n",
        "day_hours_labels = ['8AM', '9AM', '10AM', '11AM', '12PM', '1PM', '2PM', '3PM', '4PM']\n",
        "\n",
        "\n",
        "night_hours = {17: \"5PM\", 18: \"6PM\", 19: \"7PM\", 20: \"8PM\", 21: \"9PM\", 22: \"10PM\", 23: \"11PM\", 0: \"12AM\", 1: \"1AM\",  2: \"2AM\",  3: \"3AM\",  4: \"4AM\",  5: \"5AM\", 6: \"6AM\",  7: \"7AM\"}\n",
        "night_hours_labels = ['5PM-v', '6PM-v', '7PM-v', '8PM-v', '9PM-v', '10PM-v', '11PM-v', '12AM', '1AM', '2AM', '3AM', '4AM', '5AM', '6AM', '7AM']\n",
        "\n",
        "months = [1, 2, 3, 4, 5, 6, 7, 8, 9, 10, 11, 12]\n",
        "months_label = ['January', 'February', 'March', 'April', 'May', 'June', 'July', 'August', 'September', 'October', 'November', 'December']\n",
        "\n",
        "quarters = [1, 2, 3, 4]\n",
        "quarters_label = ['Q1', 'Q2', 'Q3', 'Q4']\n",
        "\n",
        "horizons = [0, 1, 2]\n",
        "horizons_label = [1, 2, 3]\n",
        "\n",
        "future = \"es\"\n",
        "models = [\"moirai\", \"chronos\"] #\"time_moe\" "
      ]
    },
    {
      "cell_type": "markdown",
      "metadata": {},
      "source": [
        "### Heatmap generation"
      ]
    },
    {
      "cell_type": "markdown",
      "metadata": {},
      "source": [
        "Target=\"Close\" instead of \"Close_denoised_standardized\""
      ]
    },
    {
      "cell_type": "markdown",
      "metadata": {},
      "source": [
        "1) Filtered by model, day, hour and horizon"
      ]
    },
    {
      "cell_type": "code",
      "execution_count": null,
      "metadata": {
        "colab": {
          "base_uri": "https://localhost:8080/",
          "height": 1000
        },
        "id": "tLCMm1jyWaL4",
        "outputId": "207aa125-9547-481d-d636-be1f81de2ce6"
      },
      "outputs": [],
      "source": [
        "# Compute the precison for every model, day, hour and horizon\n",
        "heatmaps = dict() # this dict will store all values and will be organized using keys like \"model_day_hour_horizon\"\n",
        "for model_label in models:\n",
        "    for day_index, _ in days.items():\n",
        "        for hour_index, _ in hours.items():\n",
        "            precisions = precision(file_path=f\"{future}_future_final_{model_label}.csv\", day = day_index, hour = hour_index, horizon=len(horizons), target=\"Close\") # store all the precisions for each horizon\n",
        "            for horizon_index in horizons:\n",
        "                heatmaps[f\"{model_label}_{day_index}_{hour_index}_{horizon_index}\"] = precisions[horizon_index]"
      ]
    },
    {
      "cell_type": "markdown",
      "metadata": {},
      "source": [
        "2. Filtered by model, quarter, month and horizon"
      ]
    },
    {
      "cell_type": "code",
      "execution_count": 10,
      "metadata": {},
      "outputs": [
        {
          "name": "stdout",
          "output_type": "stream",
          "text": [
            "True Positive (TP): [259, 281, 287], True Negative (TN): [156, 141, 146], False Positive (FP): [221, 230, 221], False Negative (FN): [95, 79, 77]\n",
            "True Positive (TP): [165, 168, 164], True Negative (TN): [136, 134, 149], False Positive (FP): [303, 311, 297], False Negative (FN): [79, 70, 73]\n",
            "True Positive (TP): [389, 387, 393], True Negative (TN): [310, 297, 290], False Positive (FP): [591, 623, 623], False Negative (FN): [167, 150, 151]\n",
            "True Positive (TP): [458, 471, 459], True Negative (TN): [303, 279, 271], False Positive (FP): [492, 513, 536], False Negative (FN): [174, 164, 161]\n",
            "True Positive (TP): [424, 427, 425], True Negative (TN): [317, 284, 276], False Positive (FP): [546, 584, 614], False Negative (FN): [188, 180, 160]\n",
            "True Positive (TP): [356, 340, 354], True Negative (TN): [280, 278, 279], False Positive (FP): [634, 656, 658], False Negative (FN): [157, 153, 136]\n",
            "True Positive (TP): [449, 470, 464], True Negative (TN): [325, 276, 313], False Positive (FP): [518, 576, 540], False Negative (FN): [183, 153, 158]\n",
            "True Positive (TP): [435, 436, 425], True Negative (TN): [356, 324, 327], False Positive (FP): [499, 547, 557], False Negative (FN): [185, 168, 166]\n",
            "True Positive (TP): [470, 480, 478], True Negative (TN): [299, 290, 279], False Positive (FP): [500, 518, 534], False Negative (FN): [158, 139, 136]\n",
            "True Positive (TP): [417, 441, 448], True Negative (TN): [317, 297, 293], False Positive (FP): [553, 561, 572], False Negative (FN): [188, 176, 162]\n",
            "True Positive (TP): [475, 482, 489], True Negative (TN): [297, 299, 278], False Positive (FP): [463, 490, 508], False Negative (FN): [194, 158, 154]\n",
            "True Positive (TP): [257, 261, 268], True Negative (TN): [205, 182, 179], False Positive (FP): [429, 464, 474], False Negative (FN): [132, 116, 102]\n",
            "True Positive (TP): [255, 279, 289], True Negative (TN): [155, 146, 136], False Positive (FP): [222, 225, 231], False Negative (FN): [99, 81, 75]\n",
            "True Positive (TP): [171, 171, 162], True Negative (TN): [164, 161, 146], False Positive (FP): [275, 284, 300], False Negative (FN): [73, 67, 75]\n",
            "True Positive (TP): [371, 379, 388], True Negative (TN): [349, 353, 307], False Positive (FP): [552, 567, 606], False Negative (FN): [185, 158, 156]\n",
            "True Positive (TP): [424, 471, 461], True Negative (TN): [304, 252, 246], False Positive (FP): [491, 540, 561], False Negative (FN): [208, 164, 159]\n",
            "True Positive (TP): [415, 431, 424], True Negative (TN): [317, 320, 304], False Positive (FP): [546, 548, 586], False Negative (FN): [197, 176, 161]\n",
            "True Positive (TP): [373, 348, 351], True Negative (TN): [395, 396, 350], False Positive (FP): [519, 538, 587], False Negative (FN): [140, 145, 139]\n",
            "True Positive (TP): [456, 465, 461], True Negative (TN): [325, 289, 287], False Positive (FP): [518, 563, 566], False Negative (FN): [176, 158, 161]\n",
            "True Positive (TP): [386, 410, 401], True Negative (TN): [373, 351, 341], False Positive (FP): [482, 520, 543], False Negative (FN): [234, 194, 190]\n",
            "True Positive (TP): [405, 417, 397], True Negative (TN): [348, 311, 280], False Positive (FP): [451, 497, 533], False Negative (FN): [223, 202, 217]\n",
            "True Positive (TP): [393, 438, 448], True Negative (TN): [337, 290, 277], False Positive (FP): [533, 568, 588], False Negative (FN): [212, 179, 162]\n",
            "True Positive (TP): [471, 454, 465], True Negative (TN): [360, 367, 328], False Positive (FP): [400, 422, 458], False Negative (FN): [198, 186, 178]\n",
            "True Positive (TP): [237, 264, 258], True Negative (TN): [243, 238, 236], False Positive (FP): [391, 408, 417], False Negative (FN): [152, 113, 112]\n"
          ]
        }
      ],
      "source": [
        "# Compute the precison for every model, day, hour and horizon\n",
        "heatmaps = dict()\n",
        "for model_label in models:\n",
        "    for month_index in months:\n",
        "        quarter = (month_index - 1) // 3 + 1\n",
        "        precisions = precision(file_path=f\"{future}_future_final_{model_label}.csv\", months=[month_index], quarters=[quarter], horizon=len(horizons), target=\"Close\") # store all the precisions for each horizon\n",
        "        for horizon_index in horizons:\n",
        "            heatmaps[f\"{model_label}_{month_index}_{quarter}_{horizon_index}\"] = precisions[horizon_index]"
      ]
    },
    {
      "cell_type": "markdown",
      "metadata": {},
      "source": [
        "### Helper functions to plot heatmaps"
      ]
    },
    {
      "cell_type": "code",
      "execution_count": 13,
      "metadata": {},
      "outputs": [],
      "source": [
        "def create_extended_heatmap_data(base_data):\n",
        "    \"\"\"\n",
        "    Given a base 2D numpy array, return an extended array that appends:\n",
        "      - A new last column with the row averages.\n",
        "      - A new last row with the column averages.\n",
        "      - The bottom-right cell with the overall average.\n",
        "    \"\"\"\n",
        "    # Compute averages\n",
        "    row_averages = base_data.mean(axis=1)\n",
        "    col_averages = base_data.mean(axis=0)\n",
        "    overall_avg = base_data.mean()\n",
        "\n",
        "    # Create an extended array (add one row and one column)\n",
        "    extended = np.zeros((base_data.shape[0] + 1, base_data.shape[1] + 1))\n",
        "    extended[:-1, :-1] = base_data\n",
        "    extended[:-1, -1] = row_averages\n",
        "    extended[-1, :-1] = col_averages\n",
        "    extended[-1, -1] = overall_avg\n",
        "    return extended"
      ]
    },
    {
      "cell_type": "code",
      "execution_count": 14,
      "metadata": {},
      "outputs": [],
      "source": [
        "def plot_extended_heatmap(extended_data, x_labels, y_labels, xlabel, ylabel, title,\n",
        "                          cmap=plt.cm.RdYlGn, norm_range=(0.45, 0.75), figsize=(10, 8)):\n",
        "    \"\"\"\n",
        "    Plot the heatmap given the extended data and labels.\n",
        "    The x_labels and y_labels should include the label for the extra (average) column/row.\n",
        "    \"\"\"\n",
        "\n",
        "    # Create an extra column and row for the averages\n",
        "    x_labels = x_labels + ['Avg']\n",
        "    y_labels = y_labels + ['Avg']\n",
        "\n",
        "    plt.figure(figsize=figsize)\n",
        "    norm = plt.Normalize(*norm_range)\n",
        "    plt.imshow(extended_data, cmap=cmap, norm=norm, aspect='auto')\n",
        "    plt.colorbar(label='Mean Precision')\n",
        "    plt.xticks(ticks=np.arange(len(x_labels)), labels=x_labels)\n",
        "    plt.yticks(ticks=np.arange(len(y_labels)), labels=y_labels)\n",
        "    plt.xlabel(xlabel)\n",
        "    plt.ylabel(ylabel)\n",
        "    plt.title(title)\n",
        "\n",
        "    # Annotate each cell with its numeric value\n",
        "    for i in range(extended_data.shape[0]):\n",
        "        for j in range(extended_data.shape[1]):\n",
        "            plt.text(j, i, f\"{extended_data[i, j]:.2f}\", ha='center', va='center', color='black')\n",
        "    plt.tight_layout()\n",
        "    plt.savefig(f\"{title}-test.png\", dpi=300, bbox_inches='tight')\n",
        "    plt.show()"
      ]
    },
    {
      "cell_type": "markdown",
      "metadata": {},
      "source": [
        "## Heatmap (days x hours)"
      ]
    },
    {
      "cell_type": "code",
      "execution_count": null,
      "metadata": {},
      "outputs": [],
      "source": [
        "###############################################\n",
        "# Heatmap (days x hours)\n",
        "###############################################\n",
        "\n",
        "base_data = np.zeros((len(hours), len(days))) # Create the base 2D array (Days x Hours)\n",
        "for hour_index, _ in hours.items():\n",
        "    for day_index, _ in days.items():\n",
        "        # Calculate mean precision over all models and horizons for a given hour and day\n",
        "        precisions = [\n",
        "            heatmaps[f\"{model}_{day_index}_{hour_index}_{horizon}\"]\n",
        "            for model in models\n",
        "            for horizon in horizons\n",
        "        ]\n",
        "        base_data[hour_index, day_index] = np.mean(precisions)\n",
        "\n",
        "# Compute extended data and prepare labels\n",
        "extended_data = create_extended_heatmap_data(base_data)\n",
        "\n",
        "plot_extended_heatmap(extended_data, \n",
        "                      x_labels=day_labels,\n",
        "                      y_labels=hour_labels,\n",
        "                      xlabel=\"Day of the Week\",\n",
        "                      ylabel=\"Entry Hour\",\n",
        "                      title=\"Mean Precision Heatmap (Days x Hours)\")\n",
        "\n",
        "\n",
        "###############################################\n",
        "# Heatmap (Days x Hours) - Only day hours (8AM - 4PM)\n",
        "###############################################\n",
        "\n",
        "base_data = np.zeros((len(day_hours), len(days)))\n",
        "\n",
        "for i, (hour_index, _) in enumerate(day_hours.items()):\n",
        "    for j, (day_index, _) in enumerate(days.items()):\n",
        "        precisions = [\n",
        "            heatmaps[f\"{model}_{day_index}_{hour_index}_{horizon}\"]\n",
        "            for model in models\n",
        "            for horizon in horizons\n",
        "        ]\n",
        "        base_data[i, j] = np.mean(precisions)\n",
        "\n",
        "extended_data = create_extended_heatmap_data(base_data)\n",
        "\n",
        "plot_extended_heatmap(extended_data,\n",
        "                      x_labels=day_labels,\n",
        "                      y_labels=day_hours_labels,\n",
        "                      xlabel=\"Day of the Week\",\n",
        "                      ylabel=\"Entry Hour (day hours)\",\n",
        "                      title=\"Mean Precision Heatmap (Days x Hours) - day hours\")\n",
        "\n",
        "###############################################\n",
        "# Heatmap (Days x Hours) - Only night hours (5PM - 7AM)\n",
        "###############################################\n",
        "\n",
        "base_data = np.zeros((len(night_hours), len(days)))\n",
        "\n",
        "for i, (hour_index, _) in enumerate(night_hours.items()):\n",
        "    for j, (day_index, _) in enumerate(days.items()):\n",
        "        precisions = [\n",
        "            heatmaps[f\"{model}_{day_index}_{hour_index}_{horizon}\"]\n",
        "            for model in models\n",
        "            for horizon in horizons\n",
        "        ]\n",
        "        base_data[i, j] = np.mean(precisions)\n",
        "\n",
        "extended_data = create_extended_heatmap_data(base_data)\n",
        "\n",
        "plot_extended_heatmap(extended_data,\n",
        "                      x_labels=day_labels,\n",
        "                      y_labels=night_hours_labels,\n",
        "                      xlabel=\"Day of the Week\",\n",
        "                      ylabel=\"Entry Hour (night hours)\",\n",
        "                      title=\"Mean Precision Heatmap (Days x Hours) - night hours\")\n"
      ]
    },
    {
      "cell_type": "markdown",
      "metadata": {},
      "source": [
        "## Heatmap (Models x hours)"
      ]
    },
    {
      "cell_type": "code",
      "execution_count": null,
      "metadata": {},
      "outputs": [],
      "source": [
        "###############################################\n",
        "# Heatmap (Models x Hours)\n",
        "###############################################\n",
        "\n",
        "base_data = np.zeros((len(hours), len(models)))  # Create the base 2D array (hours x models)\n",
        "\n",
        "for i, (hour_index, _) in enumerate(hours.items()):\n",
        "    for j, model in enumerate(models):\n",
        "        precisions = [\n",
        "            heatmaps[f\"{model}_{day_index}_{hour_index}_{horizon}\"]\n",
        "            for day_index in days\n",
        "            for horizon in horizons\n",
        "        ]\n",
        "        base_data[i, j] = np.mean(precisions)\n",
        "\n",
        "extended_data = create_extended_heatmap_data(base_data)\n",
        "\n",
        "plot_extended_heatmap(extended_data, \n",
        "                      x_labels=models,\n",
        "                      y_labels=hour_labels,\n",
        "                      xlabel=\"Models\",\n",
        "                      ylabel=\"Entry Hour\",\n",
        "                      title=\"Mean Precision Heatmap (Hours x Models)\")\n",
        "\n",
        "###############################################\n",
        "# Heatmap (Models x Hours) - Only Day Hours (8AM - 4PM)\n",
        "###############################################\n",
        "\n",
        "base_data = np.zeros((len(day_hours), len(models)))  # Create the base 2D array (day hours x models)\n",
        "\n",
        "for i, (hour_index, _) in enumerate(day_hours.items()):\n",
        "    for j, model in enumerate(models):\n",
        "        precisions = [\n",
        "            heatmaps[f\"{model}_{day_index}_{hour_index}_{horizon}\"]\n",
        "            for day_index in days\n",
        "            for horizon in horizons\n",
        "        ]\n",
        "        base_data[i, j] = np.mean(precisions)\n",
        "\n",
        "extended_data = create_extended_heatmap_data(base_data)\n",
        "\n",
        "plot_extended_heatmap(extended_data, \n",
        "                      x_labels=models,\n",
        "                      y_labels=day_hours_labels,\n",
        "                      xlabel=\"Models\",\n",
        "                      ylabel=\"Entry Hour (day hours)\",\n",
        "                      title=\"Mean Precision Heatmap (Hours x Models) - day hours\")\n",
        "\n",
        "###############################################\n",
        "# Heatmap (Models x Hours) - Only Night Hours (5PM - 7AM)\n",
        "###############################################\n",
        "\n",
        "base_data = np.zeros((len(night_hours), len(models)))  # Create the base 2D array (night hours x models)\n",
        "\n",
        "for i, (hour_index, _) in enumerate(night_hours.items()):\n",
        "    for j, model in enumerate(models):\n",
        "        precisions = [\n",
        "            heatmaps[f\"{model}_{day_index}_{hour_index}_{horizon}\"]\n",
        "            for day_index in days\n",
        "            for horizon in horizons\n",
        "        ]\n",
        "        base_data[i, j] = np.mean(precisions)\n",
        "\n",
        "extended_data = create_extended_heatmap_data(base_data)\n",
        "\n",
        "plot_extended_heatmap(extended_data, \n",
        "                      x_labels=models,\n",
        "                      y_labels=night_hours_labels,\n",
        "                      xlabel=\"Models\",\n",
        "                      ylabel=\"Entry Hour (night hours)\",\n",
        "                      title=\"Mean Precision Heatmap (Hours x Models) - night hours\")"
      ]
    },
    {
      "cell_type": "markdown",
      "metadata": {},
      "source": [
        "## Heatmap (Models x horizon)"
      ]
    },
    {
      "cell_type": "code",
      "execution_count": null,
      "metadata": {},
      "outputs": [],
      "source": [
        "###############################################\n",
        "# Heatmap (Models x Horizons)\n",
        "###############################################\n",
        "\n",
        "base_data = np.zeros((len(horizons), len(models)))  # Create the base 2D array (models x horizons)\n",
        "\n",
        "for i, horizon in enumerate(horizons):\n",
        "    for j, model in enumerate(models):\n",
        "        precisions = [\n",
        "            heatmaps[f\"{model}_{day_index}_{hour_index}_{horizon}\"]\n",
        "            for day_index in days\n",
        "            for hour_index in hours\n",
        "        ]\n",
        "        base_data[i, j] = np.mean(precisions)\n",
        "\n",
        "extended_data = create_extended_heatmap_data(base_data)\n",
        "\n",
        "plot_extended_heatmap(extended_data, \n",
        "                      x_labels=models,\n",
        "                      y_labels=horizons_label,\n",
        "                      xlabel=\"Models\",\n",
        "                      ylabel=\"Horizons\",\n",
        "                      title=\"Mean Precision Heatmap (Models x Horizons)\")\n",
        "\n",
        "###############################################\n",
        "# Heatmap (Models x Horizons) - Only Day Hours (8AM - 4PM)\n",
        "###############################################\n",
        "\n",
        "base_data = np.zeros((len(horizons), len(models)))  # Create the base 2D array (models x horizons)\n",
        "\n",
        "for i, horizon in enumerate(horizons):\n",
        "    for j, model in enumerate(models):\n",
        "        precisions = [\n",
        "            heatmaps[f\"{model}_{day_index}_{hour_index}_{horizon}\"]\n",
        "            for day_index in days\n",
        "            for hour_index, _ in day_hours.items()\n",
        "        ]\n",
        "        base_data[i, j] = np.mean(precisions)\n",
        "\n",
        "extended_data = create_extended_heatmap_data(base_data)\n",
        "\n",
        "plot_extended_heatmap(extended_data, \n",
        "                      x_labels=models,\n",
        "                      y_labels=horizons_label,\n",
        "                      xlabel=\"Models\",\n",
        "                      ylabel=\"Horizons\",\n",
        "                      title=\"Mean Precision Heatmap (Models x Horizons) - day hours only\")\n",
        "\n",
        "###############################################\n",
        "# Heatmap (Models x Horizons) - Only Night Hours (5PM - 7AM)\n",
        "###############################################\n",
        "\n",
        "base_data = np.zeros((len(horizons), len(models)))  # Create the base 2D array (models x horizons)\n",
        "\n",
        "for i, horizon in enumerate(horizons):\n",
        "    for j, model in enumerate(models):\n",
        "        precisions = [\n",
        "            heatmaps[f\"{model}_{day_index}_{hour_index}_{horizon}\"]\n",
        "            for day_index in days\n",
        "            for hour_index, _ in night_hours.items()\n",
        "        ]\n",
        "        base_data[i, j] = np.mean(precisions)\n",
        "\n",
        "extended_data = create_extended_heatmap_data(base_data)\n",
        "\n",
        "plot_extended_heatmap(extended_data, \n",
        "                      x_labels=models,\n",
        "                      y_labels=horizons_label,\n",
        "                      xlabel=\"Models\",\n",
        "                      ylabel=\"Horizons\",\n",
        "                      title=\"Mean Precision Heatmap (Models x Horizons) - night hours\")\n"
      ]
    },
    {
      "cell_type": "markdown",
      "metadata": {},
      "source": [
        "## Heatmap (Models x days)"
      ]
    },
    {
      "cell_type": "code",
      "execution_count": null,
      "metadata": {},
      "outputs": [],
      "source": [
        "###############################################\n",
        "# Heatmap (Models x Days)\n",
        "###############################################\n",
        "\n",
        "base_data = np.zeros((len(days), len(models)))  # Create the base 2D array (models x days)\n",
        "\n",
        "for i, (day_index, _) in enumerate(days.items()):\n",
        "    for j, model in enumerate(models):\n",
        "        precisions = [\n",
        "            heatmaps[f\"{model}_{day_index}_{hour_index}_{horizon}\"]\n",
        "            for horizon in horizons\n",
        "            for hour_index in hours\n",
        "        ]\n",
        "        base_data[i, j] = np.mean(precisions)\n",
        "\n",
        "extended_data = create_extended_heatmap_data(base_data)\n",
        "\n",
        "plot_extended_heatmap(extended_data, \n",
        "                      x_labels=models,\n",
        "                      y_labels=day_labels,\n",
        "                      xlabel=\"Models\",\n",
        "                      ylabel=\"Days\",\n",
        "                      title=\"Mean Precision Heatmap (Models x Days)\")\n",
        "\n",
        "###############################################\n",
        "# Heatmap (Models x Days) - Only Day Hours (8AM - 4PM)\n",
        "###############################################\n",
        "\n",
        "base_data = np.zeros((len(days), len(models)))  # Create the base 2D array (models x days)\n",
        "\n",
        "for i, (day_index, _) in enumerate(days.items()):\n",
        "    for j, model in enumerate(models):\n",
        "        precisions = [\n",
        "            heatmaps[f\"{model}_{day_index}_{hour_index}_{horizon}\"]\n",
        "            for horizon in horizons\n",
        "            for hour_index, _ in day_hours.items()\n",
        "        ]\n",
        "        base_data[i, j] = np.mean(precisions)\n",
        "\n",
        "extended_data = create_extended_heatmap_data(base_data)\n",
        "\n",
        "plot_extended_heatmap(extended_data, \n",
        "                      x_labels=models,\n",
        "                      y_labels=day_labels,\n",
        "                      xlabel=\"Models\",\n",
        "                      ylabel=\"Days\",\n",
        "                      title=\"Mean Precision Heatmap (Models x Days) - day hours\")\n",
        "\n",
        "###############################################\n",
        "# Heatmap (Models x Days) - Only Night Hours (5PM - 7AM)\n",
        "###############################################\n",
        "\n",
        "base_data = np.zeros((len(days), len(models)))  # Create the base 2D array (models x days)\n",
        "\n",
        "for i, (day_index, _) in enumerate(days.items()):\n",
        "    for j, model in enumerate(models):\n",
        "        precisions = [\n",
        "            heatmaps[f\"{model}_{day_index}_{hour_index}_{horizon}\"]\n",
        "            for horizon in horizons\n",
        "            for hour_index, _ in night_hours.items()\n",
        "        ]\n",
        "        base_data[i, j] = np.mean(precisions)\n",
        "\n",
        "extended_data = create_extended_heatmap_data(base_data)\n",
        "\n",
        "plot_extended_heatmap(extended_data, \n",
        "                      x_labels=models,\n",
        "                      y_labels=day_labels,\n",
        "                      xlabel=\"Models\",\n",
        "                      ylabel=\"Days\",\n",
        "                      title=\"Mean Precision Heatmap (Models x Days) - night hours\")"
      ]
    },
    {
      "cell_type": "markdown",
      "metadata": {},
      "source": [
        "## Heatmap (Months x Quarters)"
      ]
    },
    {
      "cell_type": "code",
      "execution_count": 15,
      "metadata": {},
      "outputs": [
        {
          "data": {
            "image/png": "[encoded data removed]",
            "text/plain": [
              "<Figure size 1000x800 with 2 Axes>"
            ]
          },
          "metadata": {},
          "output_type": "display_data"
        }
      ],
      "source": [
        "import numpy as np\n",
        "\n",
        "base_data = np.zeros((3, len(quarters)))  # 3 rows per quarter, 4 columns if quarters = [1,2,3,4]\n",
        "\n",
        "for month_index in months:\n",
        "    # Calculate quarter and row position within quarter\n",
        "    quarter = (month_index - 1) // 3 + 1\n",
        "    row_pos = (month_index - 1) % 3\n",
        "    col_pos = quarter - 1\n",
        "\n",
        "    # Gather precisions for all horizons across the desired models\n",
        "    # (If you want an average across models, you can adapt below)\n",
        "    all_precisions = []\n",
        "    for model in models:\n",
        "        precisions = [\n",
        "            heatmaps[f\"{model}_{month_index}_{quarter}_{horizon}\"]\n",
        "            for horizon in horizons\n",
        "        ]\n",
        "        all_precisions.extend(precisions)\n",
        "    \n",
        "    # Take the average across all horizons & models\n",
        "    base_data[row_pos, col_pos] = np.mean(all_precisions)\n",
        "\n",
        "# Define appropriate labels\n",
        "x_labels = quarters_label              # Quarters on X-axis, e.g. [\"Q1\", \"Q2\", \"Q3\", \"Q4\"]\n",
        "y_labels = [\"Month 1\", \"Month 2\", \"Month 3\"]  # 3 rows per quarter\n",
        "\n",
        "# Plot with adjusted labels\n",
        "plot_extended_heatmap(\n",
        "    create_extended_heatmap_data(base_data), \n",
        "    x_labels=x_labels,\n",
        "    y_labels=y_labels,\n",
        "    xlabel=\"Quarters\",\n",
        "    ylabel=\"Month-Position in Quarter\",\n",
        "    title=\"Mean Precision Heatmap (Months x Quarters)\"\n",
        ")\n"
      ]
    },
    {
      "cell_type": "markdown",
      "metadata": {
        "id": "Wy2n_TwKXLTh"
      },
      "source": [
        "# SHAP"
      ]
    },
    {
      "cell_type": "code",
      "execution_count": null,
      "metadata": {
        "id": "cICsdMJU8B6r"
      },
      "outputs": [],
      "source": [
        "import pandas as pd\n",
        "import ast\n",
        "\n",
        "features = [\"ATR_10\", \"RSI\", \"DistanceToEMM20\", \"DistanceToEMM60\", \"DistanceToMM20\", \"DistanceToMM60\"]\n",
        "\n",
        "data = pd.read_csv(\"es_future_final_time_moe.csv\", parse_dates = True, index_col = 0)\n",
        "data.dropna(inplace=True)\n",
        "\n",
        "# Assuming your DataFrame is named 'data' and the column with the lists is named 'score'\n",
        "\n",
        "# Step 1: Convert the string representation of lists into actual lists\n",
        "data['score'] = data['score'].apply(ast.literal_eval)\n",
        "data['APE'] = data['APE'].apply(ast.literal_eval)\n",
        "data['SIGN'] = data['SIGN'].apply(ast.literal_eval)\n",
        "\n",
        "\n",
        "# Step 2: Create a DataFrame from the lists and expand the columns\n",
        "score_df = pd.DataFrame(data['score'].tolist(), index=data.index)\n",
        "ape_df = pd.DataFrame(data['APE'].tolist(), index=data.index)\n",
        "sign_df = pd.DataFrame(data['SIGN'].tolist(), index=data.index)\n",
        "\n",
        "# Step 3: Rename the columns to SCORE_1, SCORE_2, ..., SCORE_12\n",
        "score_df.columns = [f'SCORE_{i+1}' for i in range(score_df.shape[1])]\n",
        "ape_df.columns = [f'APE_{i+1}' for i in range(ape_df.shape[1])]\n",
        "sign_df.columns = [f'SIGN_{i+1}' for i in range(sign_df.shape[1])]\n",
        "\n",
        "\n",
        "# Step 4: (Optional) Concatenate this new DataFrame with the original DataFrame\n",
        "data = pd.concat([data, score_df, ape_df, sign_df], axis=1)\n",
        "data"
      ]
    },
    {
      "cell_type": "code",
      "execution_count": null,
      "metadata": {
        "id": "qLRXKcDS8iPd"
      },
      "outputs": [],
      "source": [
        "import shap\n",
        "import lightgbm as lgb\n",
        "import matplotlib.pyplot as plt\n",
        "from sklearn.ensemble import RandomForestRegressor\n",
        "from sklearn.model_selection import train_test_split\n",
        "from sklearn.metrics import mean_squared_error\n",
        "\n",
        "def beeswarm_plot(df, target, features):\n",
        "    \"\"\"\n",
        "    Beeswarm Plot with TreeSHAP\n",
        "    Args:\n",
        "        df (pd.DataFrame): Input DataFrame containing features and target\n",
        "        target (str): Name of the target column\n",
        "        features (list): List of feature column names\n",
        "\n",
        "    Returns:\n",
        "        shap_values: Computed SHAP values\n",
        "    \"\"\"\n",
        "    # Split data into features and target\n",
        "    X = df[features]\n",
        "    y = df[target]\n",
        "\n",
        "    # Train-test split\n",
        "    X_train, X_test, y_train, y_test = train_test_split(X, y, test_size=0.2, random_state=42)\n",
        "\n",
        "    # Initialize the RandomForestRegressor\n",
        "    model = lgb.LGBMRegressor()\n",
        "    model.fit(X, y)\n",
        "    # Evaluate the model\n",
        "    y_pred = model.predict(X_test)\n",
        "    mse = mean_squared_error(y_test, y_pred)\n",
        "    print(f\"Mean Squared Error: {mse}\")\n",
        "\n",
        "    # Compute SHAP values\n",
        "    explainer = shap.TreeExplainer(model)\n",
        "    shap_values = explainer(X_test)  # Preferred API in newer versions\n",
        "\n",
        "    # Global importance bar plot\n",
        "    shap.summary_plot(shap_values.values, X_test, plot_type=\"bar\")\n",
        "    plt.show()\n",
        "\n",
        "    # Beeswarm plot\n",
        "    shap.summary_plot(shap_values.values, X_test)\n",
        "    plt.show()\n",
        "\n",
        "    return shap_values\n"
      ]
    },
    {
      "cell_type": "code",
      "execution_count": null,
      "metadata": {
        "collapsed": true,
        "id": "uWfyWXqFTUZc"
      },
      "outputs": [],
      "source": [
        "df = data.copy()\n",
        "df.dropna(inplace=True)"
      ]
    },
    {
      "cell_type": "code",
      "execution_count": null,
      "metadata": {
        "collapsed": true,
        "id": "JW91heI18iXh"
      },
      "outputs": [],
      "source": [
        "new_df = df[df[\"APE_1\"] < df[\"APE_1\"].quantile(0.99)]\n",
        "values = beeswarm_plot(new_df, \"APE_1\", features)"
      ]
    },
    {
      "cell_type": "code",
      "execution_count": null,
      "metadata": {
        "id": "nFYBFvEmp2Pm"
      },
      "outputs": [],
      "source": [
        "new_df = df[df[\"APE_1\"] < df[\"APE_1\"].quantile(0.95)]\n",
        "values = beeswarm_plot(new_df, \"APE_1\", features)"
      ]
    },
    {
      "cell_type": "code",
      "execution_count": null,
      "metadata": {
        "id": "BatjPfY1cUnA"
      },
      "outputs": [],
      "source": [
        "new_df = df[df[\"APE_2\"] < df[\"APE_2\"].quantile(0.99)]\n",
        "values = beeswarm_plot(new_df, \"APE_2\", features)"
      ]
    },
    {
      "cell_type": "code",
      "execution_count": null,
      "metadata": {
        "id": "9bwW47bCp94k"
      },
      "outputs": [],
      "source": [
        "new_df = df[df[\"APE_2\"] < df[\"APE_2\"].quantile(0.95)]\n",
        "values = beeswarm_plot(new_df, \"APE_2\", features)"
      ]
    },
    {
      "cell_type": "code",
      "execution_count": null,
      "metadata": {
        "id": "70Ymey0xcg4l"
      },
      "outputs": [],
      "source": [
        "new_df = df[df[\"APE_3\"] < df[\"APE_3\"].quantile(0.99)]\n",
        "values = beeswarm_plot(new_df, \"APE_3\", features)"
      ]
    },
    {
      "cell_type": "code",
      "execution_count": null,
      "metadata": {
        "id": "y-7Riqh0qHjF"
      },
      "outputs": [],
      "source": [
        "new_df = df[df[\"APE_3\"] < df[\"APE_3\"].quantile(0.95)]\n",
        "values = beeswarm_plot(new_df, \"APE_3\", features)"
      ]
    },
    {
      "cell_type": "code",
      "execution_count": null,
      "metadata": {
        "id": "gKoCPc3CiJBB"
      },
      "outputs": [],
      "source": [
        "df[features].describe()"
      ]
    },
    {
      "cell_type": "code",
      "execution_count": null,
      "metadata": {
        "id": "D9vEgVsqiKcZ"
      },
      "outputs": [],
      "source": []
    },
    {
      "cell_type": "markdown",
      "metadata": {
        "id": "w1tRUNAvXPhi"
      },
      "source": [
        "# Discarding features"
      ]
    },
    {
      "cell_type": "code",
      "execution_count": null,
      "metadata": {
        "id": "KZmIASAk8T0c"
      },
      "outputs": [],
      "source": [
        "df = pd.concat([precision(\"es_future_final_moirai.csv\").T, precision(\"es_future_final_moirai_moe.csv\").T, precision(\"es_future_final_time_moe.csv\").T], axis=1)\n",
        "df.index = pd.RangeIndex(start=1, stop=df.index.stop + 1, step=1)\n",
        "df.columns = [\"Moirai Base\", \"Moirai-MoE Small\", \"Time-MoE 200M\"]\n",
        "df.plot(\n",
        "    title=\"ES Future - All points - Monday - 10AM-12PM\",\n",
        "    xlabel=\"Horizon\",\n",
        "    ylabel=\"Precision\",\n",
        "    ylim=(0, 1)\n",
        ")\n",
        "\n",
        "df = pd.concat([precision(\"es_future_final_moirai.csv\", threshold_column=\"ATR_10\", quantile = 0.3).T, precision(\"es_future_final_moirai_moe.csv\", threshold_column=\"ATR_10\", quantile = 0.3).T, precision(\"es_future_final_time_moe.csv\", threshold_column=\"ATR_10\", quantile = 0.3).T], axis=1)\n",
        "df.index = pd.RangeIndex(start=1, stop=df.index.stop + 1, step=1)\n",
        "df.columns = [\"Moirai Base\", \"Moirai-MoE Small\", \"Time-MoE 200M\"]\n",
        "\n",
        "df.plot(\n",
        "    title=\"ES Future - Discarding Q3 ATR_10 - Monday - 10AM-12PM\",\n",
        "    xlabel=\"Horizon\",\n",
        "    ylabel=\"Precision\",\n",
        "    ylim=(0, 1)\n",
        ")\n",
        "\n",
        "df = pd.concat([precision(\"es_future_final_moirai.csv\", threshold_column=\"ATR_10\", quantile = 0.5).T, precision(\"es_future_final_moirai_moe.csv\", threshold_column=\"ATR_10\", quantile = 0.5).T, precision(\"es_future_final_time_moe.csv\", threshold_column=\"ATR_10\", quantile = 0.5).T], axis=1)\n",
        "df.index = pd.RangeIndex(start=1, stop=df.index.stop + 1, step=1)\n",
        "df.columns = [\"Moirai Base\", \"Moirai-MoE Small\", \"Time-MoE 200M\"]\n",
        "df.plot(\n",
        "    title=\"ES Future - Discarding Q5 ATR_10 - Monday - 10AM-12PM\",\n",
        "    xlabel=\"Horizon\",\n",
        "    ylabel=\"Precision\",\n",
        "    ylim=(0, 1)\n",
        ")\n",
        "\n",
        "df = pd.concat([precision(\"es_future_final_moirai.csv\", threshold_column=\"ATR_10\", quantile = 0.8).T, precision(\"es_future_final_moirai_moe.csv\", threshold_column=\"ATR_10\", quantile = 0.8).T, precision(\"es_future_final_time_moe.csv\", threshold_column=\"ATR_10\", quantile = 0.8).T], axis=1)\n",
        "df.index = pd.RangeIndex(start=1, stop=df.index.stop + 1, step=1)\n",
        "df.columns = [\"Moirai Base\", \"Moirai-MoE Small\", \"Time-MoE 200M\"]\n",
        "df.plot(\n",
        "    title=\"ES Future - Discarding Q8 ATR_10 - Monday - 10AM-12PM\",\n",
        "    xlabel=\"Horizon\",\n",
        "    ylabel=\"Precision\",\n",
        "    ylim=(0, 1)\n",
        ")"
      ]
    },
    {
      "cell_type": "code",
      "execution_count": null,
      "metadata": {
        "id": "s3t3C6Td9LtS"
      },
      "outputs": [],
      "source": [
        "df = pd.concat([precision(\"gc_future_final_moirai.csv\").T, precision(\"gc_future_final_moirai_moe.csv\").T, precision(\"gc_future_final_time_moe.csv\").T], axis=1)\n",
        "df.index = pd.RangeIndex(start=1, stop=df.index.stop + 1, step=1)\n",
        "df.columns = [\"Moirai Base\", \"Moirai-MoE Small\", \"Time-MoE 200M\"]\n",
        "df.plot(\n",
        "    title=\"GC Future - All points - Monday - 10AM-12PM\",\n",
        "    xlabel=\"Horizon\",\n",
        "    ylabel=\"Precision\",\n",
        "    ylim=(0, 1)\n",
        ")\n",
        "\n",
        "df = pd.concat([precision(\"gc_future_final_moirai.csv\", threshold_column=\"ATR_10\", quantile = 0.3).T, precision(\"gc_future_final_moirai_moe.csv\", threshold_column=\"ATR_10\", quantile = 0.3).T, precision(\"gc_future_final_time_moe.csv\", threshold_column=\"ATR_10\", quantile = 0.3).T], axis=1)\n",
        "df.index = pd.RangeIndex(start=1, stop=df.index.stop + 1, step=1)\n",
        "df.columns = [\"Moirai Base\", \"Moirai-MoE Small\", \"Time-MoE 200M\"]\n",
        "df.plot(\n",
        "    title=\"GC Future - Discarding Q3 ATR_10 - Monday - 10AM-12PM\",\n",
        "    xlabel=\"Horizon\",\n",
        "    ylabel=\"Precision\",\n",
        "    ylim=(0, 1)\n",
        ")\n",
        "\n",
        "df = pd.concat([precision(\"gc_future_final_moirai.csv\", threshold_column=\"ATR_10\", quantile = 0.5).T, precision(\"gc_future_final_moirai_moe.csv\", threshold_column=\"ATR_10\", quantile = 0.5).T, precision(\"gc_future_final_time_moe.csv\", threshold_column=\"ATR_10\", quantile = 0.5).T], axis=1)\n",
        "df.index = pd.RangeIndex(start=1, stop=df.index.stop + 1, step=1)\n",
        "df.columns = [\"Moirai Base\", \"Moirai-MoE Small\", \"Time-MoE 200M\"]\n",
        "df.plot(\n",
        "    title=\"GC Future - Discarding Q5 ATR_10 - Monday - 10AM-12PM\",\n",
        "    xlabel=\"Horizon\",\n",
        "    ylabel=\"Precision\",\n",
        "    ylim=(0, 1)\n",
        ")\n",
        "\n",
        "df = pd.concat([precision(\"gc_future_final_moirai.csv\", threshold_column=\"ATR_10\", quantile = 0.8).T, precision(\"gc_future_final_moirai_moe.csv\", threshold_column=\"ATR_10\", quantile = 0.8).T, precision(\"gc_future_final_time_moe.csv\", threshold_column=\"ATR_10\", quantile = 0.8).T], axis=1)\n",
        "df.index = pd.RangeIndex(start=1, stop=df.index.stop + 1, step=1)\n",
        "df.columns = [\"Moirai Base\", \"Moirai-MoE Small\", \"Time-MoE 200M\"]\n",
        "df.plot(\n",
        "    title=\"GC Future - Discarding Q8 ATR_10 - Monday - 10AM-12PM\",\n",
        "    xlabel=\"Horizon\",\n",
        "    ylabel=\"Precision\",\n",
        "    ylim=(0, 1)\n",
        ")"
      ]
    },
    {
      "cell_type": "code",
      "execution_count": null,
      "metadata": {
        "id": "4AEzIrUn9jTg"
      },
      "outputs": [],
      "source": [
        "df = pd.concat([precision(\"btc_future_final_moirai.csv\").T, precision(\"btc_future_final_moirai.csv\").T, precision(\"btc_future_final_moirai.csv\").T], axis=1)\n",
        "df.index = pd.RangeIndex(start=1, stop=df.index.stop + 1, step=1)\n",
        "df.columns = [\"Moirai Base\", \"Moirai-MoE Small\", \"Time-MoE 200M\"]\n",
        "df.plot(\n",
        "    title=\"BTC Future - All points - Monday - 10AM-12PM\",\n",
        "    xlabel=\"Horizon\",\n",
        "    ylabel=\"Precision\",\n",
        "    ylim=(0, 1)\n",
        ")\n",
        "\n",
        "df = pd.concat([precision(\"btc_future_final_moirai.csv\", threshold_column=\"ATR_10\", quantile = 0.3).T, precision(\"btc_future_final_moirai_moe.csv\", threshold_column=\"ATR_10\", quantile = 0.3).T, precision(\"btc_future_final_time_moe.csv\", threshold_column=\"ATR_10\", quantile = 0.3).T], axis=1)\n",
        "df.index = pd.RangeIndex(start=1, stop=df.index.stop + 1, step=1)\n",
        "df.columns = [\"Moirai Base\", \"Moirai-MoE Small\", \"Time-MoE 200M\"]\n",
        "df.plot(\n",
        "    title=\"BTC Future - Discarding Q3 ATR_10 - Monday - 10AM-12PM\",\n",
        "    xlabel=\"Horizon\",\n",
        "    ylabel=\"Precision\",\n",
        "    ylim=(0, 1)\n",
        ")\n",
        "\n",
        "df = pd.concat([precision(\"btc_future_final_moirai.csv\", threshold_column=\"ATR_10\", quantile = 0.5).T, precision(\"btc_future_final_moirai_moe.csv\", threshold_column=\"ATR_10\", quantile = 0.5).T, precision(\"btc_future_final_time_moe.csv\", threshold_column=\"ATR_10\", quantile = 0.5).T], axis=1)\n",
        "df.index = pd.RangeIndex(start=1, stop=df.index.stop + 1, step=1)\n",
        "df.columns = [\"Moirai Base\", \"Moirai-MoE Small\", \"Time-MoE 200M\"]\n",
        "df.plot(\n",
        "    title=\"BTC Future - Discarding Q5 ATR_10 - Monday - 10AM-12PM\",\n",
        "    xlabel=\"Horizon\",\n",
        "    ylabel=\"Precision\",\n",
        "    ylim=(0, 1)\n",
        ")\n",
        "\n",
        "df = pd.concat([precision(\"btc_future_final_moirai.csv\", threshold_column=\"ATR_10\", quantile = 0.8).T, precision(\"btc_future_final_moirai_moe.csv\", threshold_column=\"ATR_10\", quantile = 0.8).T, precision(\"btc_future_final_time_moe.csv\", threshold_column=\"ATR_10\", quantile = 0.8).T], axis=1)\n",
        "df.index = pd.RangeIndex(start=1, stop=df.index.stop + 1, step=1)\n",
        "df.columns = [\"Moirai Base\", \"Moirai-MoE Small\", \"Time-MoE 200M\"]\n",
        "df.plot(\n",
        "    title=\"BTC Future - Discarding Q8 ATR_10 - Monday - 10AM-12PM\",\n",
        "    xlabel=\"Horizon\",\n",
        "    ylabel=\"Precision\",\n",
        "    ylim=(0, 1)\n",
        ")"
      ]
    },
    {
      "cell_type": "markdown",
      "metadata": {
        "id": "yE5aC2deaS0C"
      },
      "source": [
        "# Buckets"
      ]
    },
    {
      "cell_type": "markdown",
      "metadata": {},
      "source": [
        "### Main function"
      ]
    },
    {
      "cell_type": "code",
      "execution_count": null,
      "metadata": {
        "id": "AcGvuL2QaRq4"
      },
      "outputs": [],
      "source": [
        "import pandas as pd\n",
        "import matplotlib.pyplot as plt\n",
        "import ast\n",
        "import numpy as np\n",
        "\n",
        "\n",
        "def buckets(file_path, target = \"Close_denoised_standardized\", horizon = 12, threshold_column=None):\n",
        "    df = pd.read_csv(file_path, parse_dates = True, index_col = 0)\n",
        "    df[\"DistanceToEMA60\"] = df[\"DistanceToEMM60\"]\n",
        "    df.dropna(inplace=True)\n",
        "\n",
        "    def atr(target, horizon = 12, threshold_column = None, q1 = 0, q2 = 0.1):\n",
        "        i = 384\n",
        "        TP = [0 for k in range(horizon)]\n",
        "        TN = [0 for k in range(horizon)]\n",
        "        FP = [0 for k in range(horizon)]\n",
        "        FN = [0 for k in range(horizon)]\n",
        "        if threshold_column is not None:\n",
        "            low_threshold = df[threshold_column].quantile(q1)\n",
        "            high_threshold = df[threshold_column].quantile(q2)\n",
        "\n",
        "        # -13 is used to avoid predicting the next 12 hours for our last data point.\n",
        "        # Our last data point represents an hour. Starting the prediction at this hour is not possible because we could not verify if the prediction is correct or not. \n",
        "        while i < len(df)-13:\n",
        "            try:\n",
        "                index = df.index[i]\n",
        "                # Filter out all the rows that have a value in their threshold_column that is above the high_threshold or below the low_threshold.\n",
        "                if threshold_column is not None and (df[threshold_column].iloc[i] > high_threshold or df[threshold_column].iloc[i] < low_threshold):\n",
        "                    i += 1\n",
        "                    continue\n",
        "                # If the value in the threshold column is withing the range of the high and low thresholds, we proceed.\n",
        "                base = df[target].iloc[i] # we extract the value of the close denoised standardized at the current index.\n",
        "                signs = list()\n",
        "                for j in range(1, horizon+1):\n",
        "                    y = df[target].iloc[i+j]\n",
        "                    signs.append(int(np.sign(base-y)))\n",
        "                # we jump to the next hour\n",
        "                i+=1\n",
        "                pred_signs = ast.literal_eval(df[\"SIGN\"].iloc[i])\n",
        "                for j in range(horizon):\n",
        "                    if pred_signs[j] == 1 and signs[j] == -1:\n",
        "                        TN[j] += 1\n",
        "                    elif pred_signs[j] == 1:\n",
        "                        TP[j] += 1\n",
        "                    elif pred_signs[j] == -1 and signs[j] == -1:\n",
        "                        FP[j] += 1\n",
        "                    elif pred_signs[j] == -1:\n",
        "                        FN[j] += 1\n",
        "            except Exception as e:\n",
        "                print(i)\n",
        "                break\n",
        "        return list(map(lambda x: x[0]/(x[0]+x[1]), zip(TP, FP)))\n",
        "    \n",
        "    # compute the precision for each ventile\n",
        "    first_df = []\n",
        "    for ventile in range(20):\n",
        "        temp = pd.DataFrame(atr(target, horizon, threshold_column, q1 = ventile/20, q2 = (ventile+1)/20)).T\n",
        "        first_df.append(temp)\n",
        "    \n",
        "    # This dataframe is for the baseline\n",
        "    second_df = pd.DataFrame(atr(target, horizon)).T\n",
        "    final_df = pd.concat(first_df + [second_df], axis=0)\n",
        "\n",
        "    return final_df"
      ]
    },
    {
      "cell_type": "markdown",
      "metadata": {},
      "source": [
        "### Bucket analysis for all features and all models"
      ]
    },
    {
      "cell_type": "code",
      "execution_count": null,
      "metadata": {},
      "outputs": [],
      "source": [
        "import matplotlib.pyplot as plt\n",
        "import pandas as pd\n",
        "import numpy as np\n",
        "\n",
        "###############################################\n",
        "# Constants\n",
        "features = [\"ATR_10\", \"RSI\", \"Volume\", \"DistanceToEMM20\", \"DistanceToEMM60\", \"DistanceToMM20\", \"DistanceToMM60\"]\n",
        "\n",
        "###############################################\n",
        "# Define a function to process models with a given feature\n",
        "def process_model(file_name, feature):\n",
        "    df = buckets(file_name, horizon=12, threshold_column=feature)\n",
        "    df = df.iloc[:-1]  # Drop the baseline\n",
        "    df = df.T  # Transpose to have horizons as rows\n",
        "    df.index = pd.RangeIndex(start=1, stop=df.index.stop + 1, step=1)\n",
        "    df.columns = [f\"{feature} {i*5}-{(i+1)*5}\" for i in range(20)]\n",
        "    return df.loc[1], df.loc[3], df.loc[12]  # Extract precision values for H1, H3, H12\n",
        "\n",
        "###############################################\n",
        "# Define a function to generate and save the plot\n",
        "def plot_feature(feature):\n",
        "    plt.figure(figsize=(12, 6))\n",
        "    \n",
        "    # Process each model\n",
        "    models = [\n",
        "        (\"Moirai\", 'b', *process_model(\"es_future_final_moirai.csv\", feature)),\n",
        "        (\"Time-MoE\", 'g', *process_model(\"es_future_final_time_moe.csv\", feature)),\n",
        "        (\"Chronos\", 'r', *process_model(\"es_future_final_chronos.csv\", feature)),\n",
        "    ]\n",
        "    \n",
        "    horizons = [\"H=1\", \"H=3\", \"H=12\"]\n",
        "    linestyles = ['-', '--', ':']\n",
        "    bucket_labels = [f\"{i*5}-{(i+1)*5}\" for i in range(20)]\n",
        "    \n",
        "    for model_name, color, prec_H1, prec_H3, prec_H12 in models:\n",
        "        for horizon, prec, linestyle in zip(horizons, [prec_H1, prec_H3, prec_H12], linestyles):\n",
        "            plt.plot(bucket_labels, prec, linestyle=linestyle, color=color, label=f\"{model_name} {horizon}\")\n",
        "    \n",
        "    # Add horizontal reference lines at 0.5 and 0.6\n",
        "    plt.axhline(y=0.5, color='r', linestyle='--', label=\"Reference 0.5\")\n",
        "    plt.axhline(y=0.6, color='k', linestyle='--', label=\"Reference 0.6\")\n",
        "    \n",
        "    # Set fixed y-axis limits and y-ticks\n",
        "    plt.ylim(0.2, 0.75)\n",
        "    plt.yticks(np.arange(0.2, 0.8, 0.1))  # Set y-axis ticks from 0.2 to 0.7 with step 0.1\n",
        "    \n",
        "    plt.title(f\"ES Future - Precision per Buckets for {feature}\")\n",
        "    plt.xlabel(f\"Ventile for {feature}\")\n",
        "    plt.ylabel(\"Precision\")\n",
        "    plt.xticks(rotation=45)\n",
        "    plt.legend(loc='best')\n",
        "    plt.tight_layout()\n",
        "    \n",
        "    # Save the figure\n",
        "    file_name = f\"ES Future - Precision per Buckets for {feature}.png\"\n",
        "    plt.savefig(file_name, dpi=300, bbox_inches='tight')\n",
        "    \n",
        "    # Show the plot (optional, can be removed if only saving is needed)\n",
        "    plt.show()\n",
        "\n",
        "###############################################\n",
        "# Generate and save a plot for each feature\n",
        "for feature in features:\n",
        "    plot_feature(feature)"
      ]
    },
    {
      "cell_type": "markdown",
      "metadata": {},
      "source": [
        "### Bucket analysis for H=1, Model=Time-MoE for all features"
      ]
    },
    {
      "cell_type": "code",
      "execution_count": null,
      "metadata": {},
      "outputs": [],
      "source": [
        "import matplotlib.pyplot as plt\n",
        "import pandas as pd\n",
        "\n",
        "###############################################\n",
        "# Constants\n",
        "features = [\"ATR_10\", \"RSI\", \"Volume\", \"DistanceToEMM20\", \"DistanceToEMM60\", \"DistanceToMM20\", \"DistanceToMM60\"]\n",
        "colors = ['b', 'g', 'r', 'c', 'm', 'y', 'k']  # Assign unique colors to each feature\n",
        "\n",
        "###############################################\n",
        "# Define a function to process models with a given feature\n",
        "def process_model(file_name, feature):\n",
        "    df = buckets(file_name, horizon=12, threshold_column=feature)\n",
        "    df = df.iloc[:-1]  # Drop the baseline\n",
        "    df = df.T  # Transpose to have horizons as rows\n",
        "    df.index = pd.RangeIndex(start=1, stop=df.index.stop + 1, step=1)\n",
        "    df.columns = [f\"{feature} {i*5}-{(i+1)*5}\" for i in range(20)]\n",
        "    return df.loc[1]  # Extract precision values for H=1 only\n",
        "\n",
        "###############################################\n",
        "# Generate a single plot for all features\n",
        "plt.figure(figsize=(12, 6))\n",
        "bucket_labels = [f\"{i*5}-{(i+1)*5}\" for i in range(20)]\n",
        "\n",
        "for feature, color in zip(features, colors):\n",
        "    prec_H1 = process_model(\"es_future_final_time_moe.csv\", feature)\n",
        "    plt.plot(bucket_labels, prec_H1, linestyle='-', color=color, label=f\"{feature} H=1\")\n",
        "\n",
        "plt.title(\"ES Future - Precision per Buckets for All Features (H=1 and Model=Time-MoE)\")\n",
        "plt.xlabel(\"Ventile\")\n",
        "plt.ylabel(\"Precision\")\n",
        "plt.xticks(rotation=45)\n",
        "plt.legend(loc='best')\n",
        "plt.tight_layout()\n",
        "\n",
        "file_name = \"ES Future - Precision per Buckets for All Features (H=1 and Model=Time-MoE).png\"\n",
        "plt.savefig(file_name, dpi=300, bbox_inches='tight')\n",
        "\n",
        "plt.show()"
      ]
    },
    {
      "cell_type": "markdown",
      "metadata": {},
      "source": [
        "### End of plot\n"
      ]
    },
    {
      "cell_type": "markdown",
      "metadata": {},
      "source": [
        "# Prediction comparison"
      ]
    },
    {
      "cell_type": "markdown",
      "metadata": {},
      "source": [
        "### We try to create a temporary column SIGN_PRIME"
      ]
    },
    {
      "cell_type": "code",
      "execution_count": null,
      "metadata": {},
      "outputs": [],
      "source": [
        "\n",
        "# Sliding window function\n",
        "def sliding_window(df, context_length, prediction_length):\n",
        "    \"\"\"Generates context and prediction dataframes for each sliding window.\"\"\"\n",
        "    for start in range(len(df) - context_length - prediction_length + 1):\n",
        "        context_end = start + context_length # end of the context window\n",
        "        prediction_end = context_end + prediction_length # end of the prediction window\n",
        "\n",
        "        context_df = df.iloc[start:context_end]\n",
        "        prediction_df = df.iloc[context_end:prediction_end]\n",
        "\n",
        "        yield context_df, prediction_df, df.index[context_end]\n",
        "\n",
        "# Prediction wrapper function\n",
        "def make_prediction(context_df, prediction_df, index, args):\n",
        "    \"\"\"Wrapper to call the prediction function for each sliding window.\"\"\"\n",
        "\n",
        "    # imagine it makes a prediction using context_df, prediction_df, index\n",
        "    prediction = np.random()\n",
        "    result = np.round(np.median(forecast_np, axis=0), decimals=4)\n",
        "\n",
        "    return result\n",
        "\n",
        "def process_sliding_windows(df, args):\n",
        "    \"\"\"Processes sliding windows sequentially.\"\"\"\n",
        "    results = []\n",
        "    for context_df, prediction_df, index in sliding_window(\n",
        "        df, args.context_length, args.prediction_length\n",
        "    ):\n",
        "        try:\n",
        "            result = make_prediction(context_df, prediction_df, index, args)\n",
        "            results.append((context_df, prediction_df, result))\n",
        "        except Exception as e:\n",
        "            print(f\"Error during prediction at index {index}: {e}\")\n",
        "    return results\n",
        "\n"
      ]
    },
    {
      "cell_type": "code",
      "execution_count": null,
      "metadata": {},
      "outputs": [],
      "source": [
        "from chronos import ChronosPipeline, ChronosBoltPipeline\n",
        "\n",
        "print(ChronosBoltPipeline.predict.__doc__)  # for Chronos-Bolt models"
      ]
    },
    {
      "cell_type": "code",
      "execution_count": null,
      "metadata": {},
      "outputs": [],
      "source": [
        "import torch\n",
        "import numpy as np\n",
        "\n",
        "\n",
        "# Create a PyTorch tensor\n",
        "tensor = torch.tensor([[-120], [-12], [4], [15], [750]])\n",
        "\n",
        "\n",
        "\n",
        "print(\"PyTorch Tensor:\", tensor)\n",
        "\n",
        "# Convert the tensor to a NumPy array\n",
        "numpy_array = tensor.numpy()\n",
        "print(\"NumPy Array:\", numpy_array)\n",
        "print(np.median(numpy_array, axis=0))"
      ]
    },
    {
      "cell_type": "markdown",
      "metadata": {},
      "source": [
        "### End"
      ]
    },
    {
      "cell_type": "code",
      "execution_count": null,
      "metadata": {
        "id": "zD1W7hJ_QkU7"
      },
      "outputs": [],
      "source": []
    },
    {
      "cell_type": "code",
      "execution_count": null,
      "metadata": {
        "id": "TaBLJxdFDGOo"
      },
      "outputs": [],
      "source": [
        "esfuture_buckets_moirai_distance_to_ema_60"
      ]
    },
    {
      "cell_type": "code",
      "execution_count": null,
      "metadata": {
        "id": "ZXsOCsnFRWfT"
      },
      "outputs": [],
      "source": [
        "# df = buckets(\"gc_future_final_moirai.csv\", threshold_column=\"ATR_10\").T\n",
        "# df.index = pd.RangeIndex(start=1, stop=df.index.stop + 1, step=1)\n",
        "# df.columns = [\"ATR_10 Q1\", \"ATR_10 Q1-Q2\", \"ATR_10 Q2-Q3\", \"ATR_10 Q3-Q4\", \"ATR_10 Q4-Q5\", \"ATR_10 Q5-Q6\", \"ATR_10 Q6-Q7\", \"ATR_10 Q7-Q8\", \"ATR_10 Q8-Q9\", \"ATR_10 Q9-Q10\"]\n",
        "# df.plot(\n",
        "#     title=\"GC Future - Precision per buckets - Monday - 10AM-12PM\",\n",
        "#     xlabel=\"Horizon\",\n",
        "#     ylabel=\"Precision\",\n",
        "#     figsize=(20, 10)\n",
        "# )\n"
      ]
    },
    {
      "cell_type": "code",
      "execution_count": null,
      "metadata": {
        "id": "5nXSr5bLSpgl"
      },
      "outputs": [],
      "source": [
        "# df = buckets(\"btc_future_final_moirai.csv\", threshold_column=\"ATR_10\").T\n",
        "# df.index = pd.RangeIndex(start=1, stop=df.index.stop + 1, step=1)\n",
        "# df.columns = [\"ATR_10 Q1\", \"ATR_10 Q1-Q2\", \"ATR_10 Q2-Q3\", \"ATR_10 Q3-Q4\", \"ATR_10 Q4-Q5\", \"ATR_10 Q5-Q6\", \"ATR_10 Q6-Q7\", \"ATR_10 Q7-Q8\", \"ATR_10 Q8-Q9\", \"ATR_10 Q9-Q10\"]\n",
        "# df.plot(\n",
        "#     title=\"BTC Future - Precision per buckets - Monday - 10AM-12PM\",\n",
        "#     xlabel=\"Horizon\",\n",
        "#     ylabel=\"Precision\",\n",
        "#     figsize=(20, 10)\n",
        "# )"
      ]
    },
    {
      "cell_type": "markdown",
      "metadata": {
        "id": "DKqVYqnsae70"
      },
      "source": [
        "# Random Forest"
      ]
    },
    {
      "cell_type": "code",
      "execution_count": null,
      "metadata": {
        "id": "M6xhxMgj99-5"
      },
      "outputs": [],
      "source": [
        "# Random forest Regressor\n",
        "\n",
        "from sklearn.ensemble import RandomForestRegressor\n",
        "\n",
        "from sklearn.model_selection import GridSearchCV\n",
        "from sklearn.metrics import r2_score, mean_squared_error, mean_absolute_error\n",
        "import pandas as pd\n",
        "from sklearn.model_selection import train_test_split\n",
        "\n",
        "\n",
        "features = [\"ATR_10\", \"RSI\", \"Volume\", \"DistanceToEMM20\", \"DistanceToEMM60\", \"DistanceToMM20\", \"DistanceToMM60\"]\n",
        "target = \"Close_denoised\"\n",
        "\n",
        "def market_rf(file_path, features, target, horizon):\n",
        "    df = pd.read_csv(file_path, parse_dates = True, index_col = 0)\n",
        "    df.dropna(inplace=True)\n",
        "\n",
        "    X = df[features][:-3]\n",
        "    y = pd.concat([df[target][:-3], df[target].shift(-1)[:-3], df[target].shift(-2)[:-3], df[target].shift(-3)[:-3]], axis=1)\n",
        "    y.columns = [\"H=0\", \"H=1\", \"H=2\", \"H=3\"]\n",
        "\n",
        "    X_train, X_test, y_train, y_test = train_test_split(X, y, test_size=0.3, random_state=42)\n",
        "\n",
        "    rf1 = RandomForestRegressor(\n",
        "        n_estimators=100,\n",
        "        max_depth=None,\n",
        "        min_samples_split=2,\n",
        "        min_samples_leaf=1,\n",
        "        max_features=None,\n",
        "        bootstrap=True,\n",
        "        random_state=42\n",
        "    )\n",
        "\n",
        "    rf2 = RandomForestRegressor(\n",
        "        n_estimators=100,\n",
        "        max_depth=None,\n",
        "        min_samples_split=2,\n",
        "        min_samples_leaf=1,\n",
        "        max_features=None,\n",
        "        bootstrap=True,\n",
        "        random_state=42\n",
        "    )\n",
        "\n",
        "    rf3 = RandomForestRegressor(\n",
        "        n_estimators=100,\n",
        "        max_depth=None,\n",
        "        min_samples_split=2,\n",
        "        min_samples_leaf=1,\n",
        "        max_features=None,\n",
        "        bootstrap=True,\n",
        "        random_state=42\n",
        "    )\n",
        "\n",
        "    rf1.fit(X_train, y_train[\"H=1\"])\n",
        "    rf2.fit(X_train, y_train[\"H=2\"])\n",
        "    rf3.fit(X_train, y_train[\"H=3\"])\n",
        "\n",
        "    y_pred1 = rf1.predict(X_test)\n",
        "    y_pred2 = rf2.predict(X_test)\n",
        "    y_pred3 = rf3.predict(X_test)\n",
        "\n",
        "    def get_metrics(y_test, y_pred):\n",
        "        mae = mean_absolute_error(y_test, y_pred)\n",
        "        r2 = r2_score(y_test, y_pred)\n",
        "        mse = mean_squared_error(y_test, y_pred)\n",
        "        rmse = mean_squared_error(y_test, y_pred)**0.5\n",
        "        print(f\"MAE: {mae}, R2: {r2}, MSE: {mse}, RMSE: {rmse}\")\n",
        "\n",
        "    print(\"H=1\")\n",
        "    get_metrics(y_test[\"H=1\"], y_pred1)\n",
        "    print(\"H=2\")\n",
        "    get_metrics(y_test[\"H=2\"], y_pred2)\n",
        "    print(\"H=3\")\n",
        "    get_metrics(y_test[\"H=3\"], y_pred3)\n",
        "    return y_test, y_pred1, y_pred2, y_pred3"
      ]
    },
    {
      "cell_type": "code",
      "execution_count": null,
      "metadata": {
        "id": "hLyy-fooHdmc"
      },
      "outputs": [],
      "source": [
        "df = pd.read_csv(\"es_future_final_time_moe.csv\", parse_dates = True, index_col = 0)"
      ]
    },
    {
      "cell_type": "code",
      "execution_count": null,
      "metadata": {
        "id": "MridCOCaHiJD"
      },
      "outputs": [],
      "source": [
        "X = df[features][:-3]\n",
        "y = pd.concat([df[target][:-3], df[target].shift(-1)[:-3], df[target].shift(-2)[:-3], df[target].shift(-3)[:-3]], axis=1)\n",
        "y.columns = [\"H=0\", \"H=1\", \"H=2\", \"H=3\"]"
      ]
    },
    {
      "cell_type": "code",
      "execution_count": null,
      "metadata": {
        "id": "DRuUubphDzkX"
      },
      "outputs": [],
      "source": [
        "y_test, y_pred1, y_pred2, y_pred3 = market_rf(\"es_future_final_moirai.csv\", features, target, 1)"
      ]
    },
    {
      "cell_type": "code",
      "execution_count": null,
      "metadata": {
        "id": "NIDTTbp2mKFh"
      },
      "outputs": [],
      "source": [
        "df1 = pd.DataFrame(y_pred1, columns=[\"Predictions H=1\"])\n",
        "df2 = pd.DataFrame(y_pred2, columns=[\"Predictions H=2\"])\n",
        "df3 = pd.DataFrame(y_pred3, columns=[\"Predictions H=3\"])\n",
        "\n",
        "df1.index = y_test.index\n",
        "df2.index = y_test.index\n",
        "df3.index = y_test.index"
      ]
    },
    {
      "cell_type": "code",
      "execution_count": null,
      "metadata": {
        "id": "8Da6QE2Gcc7c"
      },
      "outputs": [],
      "source": [
        "rf_df = pd.concat([y_test, df1, df2, df3], axis=1)\n",
        "rf_df"
      ]
    },
    {
      "cell_type": "code",
      "execution_count": null,
      "metadata": {
        "collapsed": true,
        "id": "SIrzD-Hs7kAj"
      },
      "outputs": [],
      "source": [
        "df = pd.read_csv(\"es_future_final_moirai.csv\", parse_dates = True, index_col = 0)\n",
        "df"
      ]
    },
    {
      "cell_type": "code",
      "execution_count": null,
      "metadata": {
        "collapsed": true,
        "id": "Cww4HdzB7sMz"
      },
      "outputs": [],
      "source": [
        "aggregated = pd.concat([df, rf_df], axis=1)\n",
        "aggregated.dropna(inplace=True)"
      ]
    },
    {
      "cell_type": "code",
      "execution_count": null,
      "metadata": {
        "id": "LicYzCzD82K3"
      },
      "outputs": [],
      "source": [
        "# ESFUTURE RF\n",
        "\n",
        "import numpy as np\n",
        "\n",
        "\n",
        "y_test, y_pred1, y_pred2, y_pred3 = market_rf(\"es_future_final_moirai.csv\", features, target, 1)\n",
        "\n",
        "df1 = pd.DataFrame(y_pred1, columns=[\"Predictions H=1\"])\n",
        "df2 = pd.DataFrame(y_pred2, columns=[\"Predictions H=2\"])\n",
        "df3 = pd.DataFrame(y_pred3, columns=[\"Predictions H=3\"])\n",
        "\n",
        "df1.index = y_test.index\n",
        "df2.index = y_test.index\n",
        "df3.index = y_test.index\n",
        "\n",
        "rf_df = pd.concat([y_test, df1, df2, df3], axis=1)\n",
        "\n",
        "\n",
        "rf_df[\"Evolution 1\"] = rf_df[\"H=0\"] - rf_df[\"H=1\"]\n",
        "rf_df[\"Evolution 2\"] = rf_df[\"H=0\"] - rf_df[\"H=2\"]\n",
        "rf_df[\"Evolution 3\"] = rf_df[\"H=0\"] - rf_df[\"H=3\"]\n",
        "\n",
        "rf_df[\"Pred Evolution 1\"] = rf_df[\"H=0\"] - rf_df[\"Predictions H=1\"]\n",
        "rf_df[\"Pred Evolution 2\"] = rf_df[\"H=0\"] - rf_df[\"Predictions H=2\"]\n",
        "rf_df[\"Pred Evolution 3\"] = rf_df[\"H=0\"] - rf_df[\"Predictions H=3\"]\n",
        "\n",
        "rf_df[\"Evolution 1\"] = rf_df[\"Evolution 1\"].apply(np.sign)\n",
        "rf_df[\"Evolution 2\"] = rf_df[\"Evolution 2\"].apply(np.sign)\n",
        "rf_df[\"Evolution 3\"] = rf_df[\"Evolution 3\"].apply(np.sign)\n",
        "\n",
        "rf_df[\"Pred Evolution 1\"] = rf_df[\"Pred Evolution 1\"].apply(np.sign)\n",
        "rf_df[\"Pred Evolution 2\"] = rf_df[\"Pred Evolution 2\"].apply(np.sign)\n",
        "rf_df[\"Pred Evolution 3\"] = rf_df[\"Pred Evolution 3\"].apply(np.sign)\n",
        "\n",
        "es_future_moirai_rf = pd.concat([pd.read_csv(\"es_future_final_moirai.csv\", parse_dates = True, index_col = 0), rf_df], axis=1)\n",
        "es_future_moirai_moe_rf = pd.concat([pd.read_csv(\"es_future_final_moirai_moe.csv\", parse_dates = True, index_col = 0), rf_df], axis=1)\n",
        "es_future_time_moe_rf = pd.concat([pd.read_csv(\"es_future_final_time_moe.csv\", parse_dates = True, index_col = 0), rf_df], axis=1)\n",
        "\n",
        "es_future_moirai_rf.to_csv(\"es_future_moirai_rf.csv\")\n",
        "es_future_moirai_moe_rf.to_csv(\"es_future_moirai_moe_rf.csv\")\n",
        "es_future_time_moe_rf.to_csv(\"es_future_time_moe_rf.csv\")\n"
      ]
    },
    {
      "cell_type": "code",
      "execution_count": null,
      "metadata": {
        "id": "7glh2j4bBxAA"
      },
      "outputs": [],
      "source": [
        "# GCFUTURE RF\n",
        "\n",
        "import numpy as np\n",
        "\n",
        "\n",
        "y_test, y_pred1, y_pred2, y_pred3 = market_rf(\"gc_future_final_moirai.csv\", features, target, 1)\n",
        "\n",
        "df1 = pd.DataFrame(y_pred1, columns=[\"Predictions H=1\"])\n",
        "df2 = pd.DataFrame(y_pred2, columns=[\"Predictions H=2\"])\n",
        "df3 = pd.DataFrame(y_pred3, columns=[\"Predictions H=3\"])\n",
        "\n",
        "df1.index = y_test.index\n",
        "df2.index = y_test.index\n",
        "df3.index = y_test.index\n",
        "\n",
        "rf_df = pd.concat([y_test, df1, df2, df3], axis=1)\n",
        "\n",
        "\n",
        "rf_df[\"Evolution 1\"] = rf_df[\"H=0\"] - rf_df[\"H=1\"]\n",
        "rf_df[\"Evolution 2\"] = rf_df[\"H=0\"] - rf_df[\"H=2\"]\n",
        "rf_df[\"Evolution 3\"] = rf_df[\"H=0\"] - rf_df[\"H=3\"]\n",
        "\n",
        "rf_df[\"Pred Evolution 1\"] = rf_df[\"H=0\"] - rf_df[\"Predictions H=1\"]\n",
        "rf_df[\"Pred Evolution 2\"] = rf_df[\"H=0\"] - rf_df[\"Predictions H=2\"]\n",
        "rf_df[\"Pred Evolution 3\"] = rf_df[\"H=0\"] - rf_df[\"Predictions H=3\"]\n",
        "\n",
        "rf_df[\"Evolution 1\"] = rf_df[\"Evolution 1\"].apply(np.sign)\n",
        "rf_df[\"Evolution 2\"] = rf_df[\"Evolution 2\"].apply(np.sign)\n",
        "rf_df[\"Evolution 3\"] = rf_df[\"Evolution 3\"].apply(np.sign)\n",
        "\n",
        "rf_df[\"Pred Evolution 1\"] = rf_df[\"Pred Evolution 1\"].apply(np.sign)\n",
        "rf_df[\"Pred Evolution 2\"] = rf_df[\"Pred Evolution 2\"].apply(np.sign)\n",
        "rf_df[\"Pred Evolution 3\"] = rf_df[\"Pred Evolution 3\"].apply(np.sign)\n",
        "\n",
        "gc_future_moirai_rf = pd.concat([pd.read_csv(\"gc_future_final_moirai.csv\", parse_dates = True, index_col = 0), rf_df], axis=1)\n",
        "gc_future_moirai_moe_rf = pd.concat([pd.read_csv(\"gc_future_final_moirai_moe.csv\", parse_dates = True, index_col = 0), rf_df], axis=1)\n",
        "gc_future_time_moe_rf = pd.concat([pd.read_csv(\"gc_future_final_time_moe.csv\", parse_dates = True, index_col = 0), rf_df], axis=1)\n",
        "\n",
        "gc_future_moirai_rf.to_csv(\"gc_future_moirai_rf.csv\")\n",
        "gc_future_moirai_moe_rf.to_csv(\"gc_future_moirai_moe_rf.csv\")\n",
        "gc_future_time_moe_rf.to_csv(\"gc_future_time_moe_rf.csv\")"
      ]
    },
    {
      "cell_type": "code",
      "execution_count": null,
      "metadata": {
        "id": "gQHEtt1FEQje"
      },
      "outputs": [],
      "source": [
        "# BTCFUTURE RF\n",
        "\n",
        "import numpy as np\n",
        "\n",
        "\n",
        "y_test, y_pred1, y_pred2, y_pred3 = market_rf(\"btc_future_final_moirai.csv\", features, target, 1)\n",
        "\n",
        "df1 = pd.DataFrame(y_pred1, columns=[\"Predictions H=1\"])\n",
        "df2 = pd.DataFrame(y_pred2, columns=[\"Predictions H=2\"])\n",
        "df3 = pd.DataFrame(y_pred3, columns=[\"Predictions H=3\"])\n",
        "\n",
        "df1.index = y_test.index\n",
        "df2.index = y_test.index\n",
        "df3.index = y_test.index\n",
        "\n",
        "rf_df = pd.concat([y_test, df1, df2, df3], axis=1)\n",
        "\n",
        "\n",
        "rf_df[\"Evolution 1\"] = rf_df[\"H=0\"] - rf_df[\"H=1\"]\n",
        "rf_df[\"Evolution 2\"] = rf_df[\"H=0\"] - rf_df[\"H=2\"]\n",
        "rf_df[\"Evolution 3\"] = rf_df[\"H=0\"] - rf_df[\"H=3\"]\n",
        "\n",
        "rf_df[\"Pred Evolution 1\"] = rf_df[\"H=0\"] - rf_df[\"Predictions H=1\"]\n",
        "rf_df[\"Pred Evolution 2\"] = rf_df[\"H=0\"] - rf_df[\"Predictions H=2\"]\n",
        "rf_df[\"Pred Evolution 3\"] = rf_df[\"H=0\"] - rf_df[\"Predictions H=3\"]\n",
        "\n",
        "rf_df[\"Evolution 1\"] = rf_df[\"Evolution 1\"].apply(np.sign)\n",
        "rf_df[\"Evolution 2\"] = rf_df[\"Evolution 2\"].apply(np.sign)\n",
        "rf_df[\"Evolution 3\"] = rf_df[\"Evolution 3\"].apply(np.sign)\n",
        "\n",
        "rf_df[\"Pred Evolution 1\"] = rf_df[\"Pred Evolution 1\"].apply(np.sign)\n",
        "rf_df[\"Pred Evolution 2\"] = rf_df[\"Pred Evolution 2\"].apply(np.sign)\n",
        "rf_df[\"Pred Evolution 3\"] = rf_df[\"Pred Evolution 3\"].apply(np.sign)\n",
        "\n",
        "btc_future_moirai_rf = pd.concat([pd.read_csv(\"btc_future_final_moirai.csv\", parse_dates = True, index_col = 0), rf_df], axis=1)\n",
        "btc_future_moirai_moe_rf = pd.concat([pd.read_csv(\"btc_future_final_moirai_moe.csv\", parse_dates = True, index_col = 0), rf_df], axis=1)\n",
        "btc_future_time_moe_rf = pd.concat([pd.read_csv(\"btc_future_final_time_moe.csv\", parse_dates = True, index_col = 0), rf_df], axis=1)\n",
        "\n",
        "btc_future_moirai_rf.to_csv(\"btc_future_moirai_rf.csv\")\n",
        "btc_future_moirai_moe_rf.to_csv(\"btc_future_moirai_moe_rf.csv\")\n",
        "btc_future_time_moe_rf.to_csv(\"btc_future_time_moe_rf.csv\")"
      ]
    },
    {
      "cell_type": "code",
      "execution_count": null,
      "metadata": {
        "id": "MK8GXrZUfyAD"
      },
      "outputs": [],
      "source": [
        "%pip install PyWavelets"
      ]
    },
    {
      "cell_type": "code",
      "execution_count": null,
      "metadata": {
        "id": "a1WJmDblcsWG"
      },
      "outputs": [],
      "source": [
        "df = pd.read_csv(\"BTC=F.csv\", parse_dates = True, index_col = 0)\n",
        "import pywt\n",
        "import numpy as np\n",
        "import pandas as pd\n",
        "\n",
        "# Example DataFrame (replace with your actual DataFrame)\n",
        "# df = pd.read_csv('your_file.csv')\n",
        "close_prices = df['Close'].values  # Extract the Close price as a NumPy array\n",
        "\n",
        "# Wavelet Denoising Function\n",
        "def wavelet_denoising(data, wavelet='db1', level=1):\n",
        "    \"\"\"\n",
        "    Apply wavelet denoising to the input data.\n",
        "\n",
        "    Parameters:\n",
        "    - data: array-like, the input signal to denoise.\n",
        "    - wavelet: str, type of wavelet to use (default: 'db1').\n",
        "    - level: int, decomposition level (default: 1).\n",
        "\n",
        "    Returns:\n",
        "    - Denoised signal as a NumPy array.\n",
        "    \"\"\"\n",
        "    # Decompose the signal\n",
        "    coeffs = pywt.wavedec(data, wavelet, level=level)\n",
        "\n",
        "    # Set threshold (universal threshold)\n",
        "    sigma = np.median(np.abs(coeffs[-1])) / 0.6745\n",
        "    threshold = sigma * np.sqrt(2 * np.log(len(data)))\n",
        "\n",
        "    # Thresholding\n",
        "    denoised_coeffs = [pywt.threshold(c, threshold, mode='soft') for c in coeffs]\n",
        "\n",
        "    # Reconstruct the signal\n",
        "    denoised_signal = pywt.waverec(denoised_coeffs, wavelet)\n",
        "    return denoised_signal\n",
        "\n",
        "# Apply denoising to the Close prices\n",
        "denoised_close = wavelet_denoising(close_prices, wavelet='db4', level=2)\n",
        "\n",
        "# Add denoised signal back to the DataFrame\n",
        "df['Close_denoised'] = denoised_close[:len(df)]  # Ensure the length matches the DataFrame\n",
        "\n",
        "df['Close_denoised_standardized'] = (df['Close_denoised'] - df['Close_denoised'].mean()) / df['Close_denoised'].std()\n",
        "df.to_csv(\"BTC=F.csv\")"
      ]
    },
    {
      "cell_type": "code",
      "execution_count": null,
      "metadata": {
        "id": "WLbeNEeQouso"
      },
      "outputs": [],
      "source": [
        "df[target].shift(-1)[:-3]"
      ]
    },
    {
      "cell_type": "code",
      "execution_count": null,
      "metadata": {
        "id": "5nYqZtRvX7R_"
      },
      "outputs": [],
      "source": [
        "y_test, y_pred = market_rf(\"es_future_final_moirai.csv\", features, target, 2)"
      ]
    },
    {
      "cell_type": "code",
      "execution_count": null,
      "metadata": {
        "id": "PEaOwP3IdcLD"
      },
      "outputs": [],
      "source": [
        "y_test[(y_test.index == test_1.index)]"
      ]
    },
    {
      "cell_type": "code",
      "execution_count": null,
      "metadata": {
        "id": "JanE3QCGdkXS"
      },
      "outputs": [],
      "source": [
        "test_1"
      ]
    },
    {
      "cell_type": "code",
      "execution_count": null,
      "metadata": {
        "id": "2XRQvurzX7c6"
      },
      "outputs": [],
      "source": [
        "market_rf(\"es_future_final_moirai.csv\", features, target, 3)"
      ]
    },
    {
      "cell_type": "code",
      "execution_count": null,
      "metadata": {
        "id": "NTj-WOuAEV0V"
      },
      "outputs": [],
      "source": [
        "0.7/0.85"
      ]
    },
    {
      "cell_type": "code",
      "execution_count": null,
      "metadata": {
        "id": "jNrxzjq7Ooao"
      },
      "outputs": [],
      "source": [
        "0.15/0.85"
      ]
    },
    {
      "cell_type": "code",
      "execution_count": null,
      "metadata": {
        "id": "GhvyCkkLOqYV"
      },
      "outputs": [],
      "source": [
        "l = [0 for i in range(100000)]\n",
        "\n",
        "val = l[-int(len(l)*0.15):]\n",
        "remaining = l[:-int(len(l)*0.15)]\n",
        "train = remaining[-int(len(remaining) * 0.7/0.85):]\n",
        "test = remaining[:-int(len(remaining) * 0.7/0.85)]\n",
        "print(len(train), len(test), len(val))\n",
        "\n"
      ]
    },
    {
      "cell_type": "code",
      "execution_count": null,
      "metadata": {
        "id": "zpQr8IrpPJUQ"
      },
      "outputs": [],
      "source": [
        "s = r\"\"\"\\subsection{Monday}\n",
        "\\begin{figure}\n",
        "    \\includegraphics[width=0.5\\linewidth]{plots/es_future_Monday_10AM_rf.png}\n",
        "    \\includegraphics[width=0.5\\linewidth]{plots/es_future_Monday_11AM_rf.png}\n",
        "    \\includegraphics[width=0.5\\linewidth]{plots/es_future_Monday_12PM_rf.png}\n",
        "    \\includegraphics[width=0.5\\linewidth]{plots/es_future_Monday_1PM_rf.png}\n",
        "    \\label{fig:enter-label}\n",
        "\\end{figure}\"\"\"\n",
        "\n",
        "print(s)"
      ]
    },
    {
      "cell_type": "code",
      "execution_count": null,
      "metadata": {
        "id": "k84k6VQ7JJdV"
      },
      "outputs": [],
      "source": [
        "print(s.replace(\"Monday\", \"Friday\"))"
      ]
    },
    {
      "cell_type": "markdown",
      "metadata": {
        "id": "xxC9PrEFJRxR"
      },
      "source": [
        "\n",
        "\n",
        "\n"
      ]
    }
  ],
  "metadata": {
    "accelerator": "GPU",
    "colab": {
      "collapsed_sections": [
        "JNk9GmDiFGZd"
      ],
      "gpuType": "T4",
      "provenance": [],
      "toc_visible": true
    },
    "kernelspec": {
      "display_name": "venv",
      "language": "python",
      "name": "python3"
    },
    "language_info": {
      "codemirror_mode": {
        "name": "ipython",
        "version": 3
      },
      "file_extension": ".py",
      "mimetype": "text/x-python",
      "name": "python",
      "nbconvert_exporter": "python",
      "pygments_lexer": "ipython3",
      "version": "3.10.16"
    }
  },
  "nbformat": 4,
  "nbformat_minor": 0
}
