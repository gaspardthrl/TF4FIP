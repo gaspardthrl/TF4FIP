{
 "cells": [
  {
   "cell_type": "markdown",
   "metadata": {},
   "source": [
    "# Predict if there is a leakge"
   ]
  },
  {
   "cell_type": "markdown",
   "metadata": {},
   "source": [
    "We select a random hour h in the dataset. We take the previous 384 hours (h-384, ... h-1), we make the prediction for h, h+1, ..., h+12. We compute the TP, FP, precision and we compare it to the real values in the dataframe"
   ]
  },
  {
   "cell_type": "code",
   "execution_count": 5,
   "metadata": {},
   "outputs": [
    {
     "name": "stdout",
     "output_type": "stream",
     "text": [
      "Predictions precision: \n",
      "[0, 0, 0, 0, 1, 0, 1, 1, 1, 1, 1, 1] [0, 0, 0, 0, 0, 0, 0, 0, 0, 0, 0, 0] [0, 1, 1, 1, 0, 1, 0, 0, 0, 0, 0, 0] [1, 0, 0, 0, 0, 0, 0, 0, 0, 0, 0, 0]\n",
      "Moirai precision: \n",
      "[0, 0, 1, 1, 1, 1, 1, 1, 1, 1, 0, 1] [0, 0, 0, 0, 0, 0, 0, 0, 0, 0, 0, 0] [0, 1, 0, 0, 0, 0, 0, 0, 0, 0, 1, 0] [1, 0, 0, 0, 0, 0, 0, 0, 0, 0, 0, 0]\n"
     ]
    }
   ],
   "source": [
    "import numpy as np\n",
    "import pandas as pd\n",
    "import torch\n",
    "from einops import rearrange\n",
    "from uni2ts.model.moirai import MoiraiForecast, MoiraiModule\n",
    "\n",
    "df_data = pd.read_csv(\"../../data/ES=F.csv\", parse_dates=True, index_col=0)\n",
    "random_index = 4560\n",
    "ground_truth_rows = df_data.iloc[random_index: random_index + 12]\n",
    "context_rows = df_data.iloc[random_index - 384: random_index]\n",
    "initial_row = df_data.iloc[random_index - 1]\n",
    "\n",
    "model = MoiraiForecast(\n",
    "    module=MoiraiModule.from_pretrained(\n",
    "        f\"Salesforce/moirai-1.1-R-base\"\n",
    "    ),\n",
    "    prediction_length=12,\n",
    "    context_length=384,\n",
    "    patch_size=32,\n",
    "    num_samples=100,\n",
    "    target_dim=1,\n",
    "    feat_dynamic_real_dim=0,\n",
    "    past_feat_dynamic_real_dim=0,\n",
    ")\n",
    "\n",
    "context_close_denoised_std = context_rows[\"Close_denoised_standardized\"].to_numpy()\n",
    "\n",
    "past_target = rearrange(\n",
    "    torch.as_tensor(context_close_denoised_std, dtype=torch.float32), \"t -> 1 t 1\"\n",
    ")\n",
    "\n",
    "past_observed_target = torch.ones_like(past_target, dtype=torch.bool)\n",
    "past_is_pad = torch.zeros_like(past_target, dtype=torch.bool).squeeze(-1)\n",
    "\n",
    "# Make the forecast\n",
    "forecast = model(\n",
    "    past_target=past_target,\n",
    "    past_observed_target=past_observed_target,\n",
    "    past_is_pad=past_is_pad,\n",
    ")\n",
    "\n",
    "results = np.round(np.median(forecast[0], axis=0), decimals=4)\n",
    "destandardized_results = [result * df_data[\"Close_denoised\"].std() + df_data[\"Close_denoised\"].mean() for result in results]\n",
    "base_price = initial_row[\"Close\"]\n",
    "\n",
    "TP = [0 for _ in range(12)]\n",
    "FP = [0 for _ in range(12)]\n",
    "FN = [0 for _ in range(12)]\n",
    "TN = [0 for _ in range(12)]\n",
    "\n",
    "for i, (gt, pred) in enumerate(zip(ground_truth_rows[\"Close\"], destandardized_results)):\n",
    "    sign_gt = np.sign(gt - base_price) # if up then 1, if down then -1\n",
    "    sign_pred = np.sign(pred - base_price)\n",
    "\n",
    "    if sign_gt == sign_pred and sign_gt == 1:\n",
    "        TP[i] += 1\n",
    "    elif sign_gt == sign_pred and sign_gt == -1:\n",
    "        TN[i] += 1\n",
    "    elif sign_gt != sign_pred and sign_gt == 1:\n",
    "        FN[i] += 1\n",
    "    elif sign_gt != sign_pred and sign_gt == -1:\n",
    "        FP[i] += 1\n",
    "\n",
    "print(\"Predictions precision: \")\n",
    "print(TP, FP, FN, TN)\n",
    "\n",
    "df_moirai = pd.read_csv(\"../../analysis/future_data/es_future_final_moirai_updated.csv\", parse_dates=True, index_col=0)\n",
    "init_row = df_moirai.iloc[random_index - 1]\n",
    "print(\"Moirai precision: \")\n",
    "print(init_row[\"TP\"], init_row[\"FP\"], init_row[\"FN\"], init_row[\"TN\"])"
   ]
  }
 ],
 "metadata": {
  "kernelspec": {
   "display_name": "venv",
   "language": "python",
   "name": "python3"
  },
  "language_info": {
   "codemirror_mode": {
    "name": "ipython",
    "version": 3
   },
   "file_extension": ".py",
   "mimetype": "text/x-python",
   "name": "python",
   "nbconvert_exporter": "python",
   "pygments_lexer": "ipython3",
   "version": "3.10.16"
  }
 },
 "nbformat": 4,
 "nbformat_minor": 2
}
