{
 "cells": [
  {
   "cell_type": "code",
   "execution_count": 14,
   "metadata": {},
   "outputs": [
    {
     "name": "stderr",
     "output_type": "stream",
     "text": [
      "/Users/baudoincoispeau/Documents/Keensight/TF4FIP/venv/lib/python3.10/site-packages/huggingface_hub/file_download.py:795: FutureWarning: `resume_download` is deprecated and will be removed in version 1.0.0. Downloads always resume when possible. If you want to force a new download, use `force_download=True`.\n",
      "  warnings.warn(\n"
     ]
    },
    {
     "name": "stdout",
     "output_type": "stream",
     "text": [
      "normed_predictions:  [[-1.5601562]\n",
      " [-1.5584261]\n",
      " [-1.557881 ]\n",
      " [-1.5616874]\n",
      " [-1.5591675]\n",
      " [-1.5564818]\n",
      " [-1.5553168]\n",
      " [-1.5532796]\n",
      " [-1.5854827]\n",
      " [-1.5971079]\n",
      " [-1.6087503]\n",
      " [-1.6223552]]\n",
      "2:  [-1.5601562 -1.5584261 -1.557881  -1.5616874 -1.5591675 -1.5564818\n",
      " -1.5553168 -1.5532796 -1.5854827 -1.5971079 -1.6087503 -1.6223552]\n",
      "median:  -1.5597\n"
     ]
    }
   ],
   "source": [
    "import argparse\n",
    "import concurrent.futures\n",
    "import logging\n",
    "import os\n",
    "\n",
    "import numpy as np\n",
    "import pandas as pd\n",
    "import torch\n",
    "from einops import rearrange\n",
    "from transformers import AutoModelForCausalLM\n",
    "\n",
    "# python rolling_window.py --path \"../../data/ES=F.csv\" --input_column \"Close_denoised_standardized\" --output_column \"Close\" --prediction_length 12 --context_length 384 --frequency \"H\" --utc True --output \"es_future_final_moirai_test.csv\"\n",
    "\n",
    "model_timemoe = AutoModelForCausalLM.from_pretrained(\n",
    "    'Maple728/TimeMoE-200M',\n",
    "    device_map='cpu',\n",
    "    trust_remote_code=True,\n",
    ")\n",
    "\n",
    "context = pd.read_csv(\"../../data/ES=F.csv\", parse_dates=True, index_col=0)\n",
    "# select the 384 first rows\n",
    "context = context[\"Close_denoised_standardized\"].to_numpy()\n",
    "context = context[:384]\n",
    "\n",
    "prediction_length = 12\n",
    "\n",
    "\n",
    "# Prepare the Time-MoE input\n",
    "context_tensor = torch.tensor(context, dtype=torch.float32, device=\"cpu\").unsqueeze(0)  # [1, context_length]\n",
    "\n",
    "# # Forecast using Time-MoE\n",
    "output_timemoe = model_timemoe.generate(context_tensor, max_new_tokens=prediction_length)\n",
    "normed_predictions = output_timemoe[0][-prediction_length:].cpu().numpy().reshape(prediction_length, -1) # select only the predictions among the output\n",
    "print(\"normed_predictions: \", normed_predictions)\n",
    "\n",
    "print(\"2: \", normed_predictions[:, 0])\n",
    "\n",
    "print(\"median: \", np.round(np.median(normed_predictions[:, 0], axis=0), decimals=4))\n"
   ]
  },
  {
   "cell_type": "code",
   "execution_count": 3,
   "metadata": {},
   "outputs": [
    {
     "name": "stderr",
     "output_type": "stream",
     "text": [
      "/Users/baudoincoispeau/Documents/Keensight/TF4FIP/venv/lib/python3.10/site-packages/huggingface_hub/file_download.py:795: FutureWarning: `resume_download` is deprecated and will be removed in version 1.0.0. Downloads always resume when possible. If you want to force a new download, use `force_download=True`.\n",
      "  warnings.warn(\n"
     ]
    },
    {
     "name": "stdout",
     "output_type": "stream",
     "text": [
      "tensor([[-0.1960, -0.2479, -0.2682, -0.2474, -0.2397, -0.2355],\n",
      "        [ 0.3083,  0.0530, -0.0266,  0.0668,  0.0446,  0.0169]])\n"
     ]
    }
   ],
   "source": [
    "import torch\n",
    "from transformers import AutoModelForCausalLM\n",
    "\n",
    "context_length = 12\n",
    "normed_seqs = torch.randn(2, context_length)  # tensor shape is [batch_size, context_length]\n",
    "\n",
    "model = AutoModelForCausalLM.from_pretrained(\n",
    "    \"Maple728/TimeMoE-200M\",\n",
    "    device_map=\"cpu\",\n",
    "    trust_remote_code=True,\n",
    ")\n",
    "\n",
    "# forecast\n",
    "prediction_length = 6\n",
    "output = model.generate(normed_seqs, max_new_tokens=prediction_length)  # shape is [batch_size, 12 + 6]\n",
    "normed_predictions = output[:, -prediction_length:]  # shape is [batch_size, 6]\n",
    "print(normed_predictions)"
   ]
  }
 ],
 "metadata": {
  "kernelspec": {
   "display_name": "venv",
   "language": "python",
   "name": "python3"
  },
  "language_info": {
   "codemirror_mode": {
    "name": "ipython",
    "version": 3
   },
   "file_extension": ".py",
   "mimetype": "text/x-python",
   "name": "python",
   "nbconvert_exporter": "python",
   "pygments_lexer": "ipython3",
   "version": "3.10.16"
  }
 },
 "nbformat": 4,
 "nbformat_minor": 2
}
